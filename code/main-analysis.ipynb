{
 "cells": [
  {
   "cell_type": "markdown",
   "metadata": {},
   "source": [
    "# The relationship between pupil size and activity in visual cortex"
   ]
  },
  {
   "cell_type": "markdown",
   "metadata": {},
   "source": [
    "## Imports and constants"
   ]
  },
  {
   "cell_type": "code",
   "execution_count": 1,
   "metadata": {},
   "outputs": [],
   "source": [
    "from datamatrix import io, plot\n",
    "import numpy as np\n",
    "from matplotlib import pyplot as plt\n",
    "import seaborn as sns\n",
    "from datamatrix import operations as ops, DataMatrix, FloatColumn"
   ]
  },
  {
   "cell_type": "code",
   "execution_count": 2,
   "metadata": {},
   "outputs": [],
   "source": [
    "MAX_ERR = np.inf\n",
    "MIN_X = 2\n",
    "MAX_X = 158\n",
    "MIN_Y = 2\n",
    "MAX_Y = 126\n",
    "MIN_SD = 1\n",
    "MAX_SD = 62\n",
    "XC = 80\n",
    "YC = 64\n",
    "OUTLIERS = set()\n",
    "SRC_NIFTI = '../outputs/correlation-matrix.pkl'\n",
    "SRC_LONGISH = '../outputs/longish-correlation-matrix.csv'\n",
    "VISUAL_CORTEX = {'V1', 'V2', 'V3', 'V4'}\n",
    "LGN = 'LGN'\n",
    "COLORS = {\n",
    "    'V1': '#4DB6AC',\n",
    "    'V2': '#009688',\n",
    "    'V3': '#00796B',\n",
    "    'V4': '#004D40',\n",
    "    'LGN': 'red'\n",
    "}"
   ]
  },
  {
   "cell_type": "markdown",
   "metadata": {},
   "source": [
    "## Read data\n",
    "\n",
    "The data is read in two formats:\n",
    "\n",
    "- A DataMatrix `dm` with one row for each roi/ subject, and the imaging data as NiftiColumns\n",
    "- A \"longish\" DataMatrix `ldm` with one row for each voxel\n",
    "\n",
    "The data is filtered based on the PRF properties to avoid poorly fitted PRFs from being included in the analysis."
   ]
  },
  {
   "cell_type": "code",
   "execution_count": 3,
   "metadata": {},
   "outputs": [
    {
     "name": "stderr",
     "output_type": "stream",
     "text": [
      "/home/sebastiaan/anaconda3/lib/python3.7/site-packages/ipykernel_launcher.py:22: RuntimeWarning: invalid value encountered in greater\n",
      "/home/sebastiaan/anaconda3/lib/python3.7/site-packages/ipykernel_launcher.py:22: RuntimeWarning: invalid value encountered in less\n",
      "/home/sebastiaan/anaconda3/lib/python3.7/site-packages/ipykernel_launcher.py:22: RuntimeWarning: invalid value encountered in greater_equal\n"
     ]
    },
    {
     "name": "stdout",
     "output_type": "stream",
     "text": [
      "Number of LGN voxels included in analysis: 360\n",
      "Total number VC of voxels: 55080\n",
      "Number of VC voxels included in analysis: 30382\n"
     ]
    }
   ],
   "source": [
    "def mask(nft, mask):\n",
    "    \n",
    "    \"\"\"Set voxels that match the mask to nan\"\"\"\n",
    "    \n",
    "    nft.get_data()[mask] = np.nan\n",
    "\n",
    "\n",
    "dm = io.readpickle(SRC_NIFTI)\n",
    "dm = dm.roi == VISUAL_CORTEX\n",
    "dm = dm.sub != OUTLIERS\n",
    "for row in dm:\n",
    "    if row.roi == 'LGN':\n",
    "        continue\n",
    "    a = row.prf_err.get_data()\n",
    "    x = row.prf_x.get_data()\n",
    "    y = row.prf_y.get_data()\n",
    "    sd = row.prf_sd.get_data()\n",
    "    err = np.where(\n",
    "        (a > MAX_ERR) |\n",
    "        (x < MIN_X) | (x >= MAX_X) |\n",
    "        (y < MIN_Y) | (y >= MAX_Y) |\n",
    "        (sd < MIN_SD) | (sd >= MAX_SD)\n",
    "    )\n",
    "    n_poor = len(err[0])\n",
    "    n_total = np.sum(~np.isnan(a))\n",
    "    mask(row.prf_x, err)\n",
    "    mask(row.prf_y, err)\n",
    "    mask(row.prf_sd, err)\n",
    "    mask(row.prf_err, err)\n",
    "    mask(row.r_vc_pupil, err)\n",
    "    mask(row.r_vc_lum, err)\n",
    "dm.r_pupil = [np.nanmedian(row.r_vc_pupil.get_data()) for row in dm]\n",
    "dm.r_lum = [np.nanmedian(row.r_vc_lum.get_data()) for row in dm]\n",
    "dm.m_prf_err = [np.nanmedian(row.prf_err.get_data()) for row in dm]\n",
    "dm.m_prf_sd = [np.nanmedian(row.prf_sd.get_data()) for row in dm]\n",
    "dm.m_prf_absx = [np.nanmedian(np.abs(row.prf_x.get_data() - XC)) for row in dm]\n",
    "dm.m_prf_absy = [np.nanmedian(np.abs(row.prf_y.get_data() - YC)) for row in dm]\n",
    "dm.m_prf_ecc = [\n",
    "    np.nanmedian(\n",
    "        (\n",
    "            (row.prf_y.get_data() - XC) ** 2 +\n",
    "            (row.prf_y.get_data() - YC) ** 2\n",
    "        ) ** .5\n",
    "    )\n",
    "    for row in dm\n",
    "]\n",
    "# And now the longish matrix\n",
    "ldm = io.readtxt(SRC_LONGISH)\n",
    "ldm_lgn = ldm.roi == LGN\n",
    "print('Number of LGN voxels included in analysis: {}'.format(len(ldm_lgn)))\n",
    "print('Total number VC of voxels: {}'.format(len(ldm)))\n",
    "ldm = ldm.roi == VISUAL_CORTEX\n",
    "ldm = ldm.prf_err <= MAX_ERR\n",
    "ldm = ldm.prf_x > MIN_X\n",
    "ldm = ldm.prf_x <= MAX_X\n",
    "ldm = ldm.prf_y > MIN_Y\n",
    "ldm = ldm.prf_y <= MAX_Y\n",
    "ldm = ldm.prf_sd > MIN_SD\n",
    "ldm = ldm.prf_sd <= MAX_SD\n",
    "ldm = ldm.sub != OUTLIERS\n",
    "print('Number of VC voxels included in analysis: {}'.format(len(ldm)))"
   ]
  },
  {
   "cell_type": "markdown",
   "metadata": {},
   "source": [
    "# Plot: Correlations between pupil size, luminance, and visual-cortex activity"
   ]
  },
  {
   "cell_type": "code",
   "execution_count": 4,
   "metadata": {},
   "outputs": [],
   "source": [
    "def roi_hist(ldm, col):\n",
    "    \n",
    "    plt.xlim(-.25, .25)\n",
    "    plt.axvline(0, color='black', linestyle='-')\n",
    "    for roi, rdm in ops.split(ldm.roi):\n",
    "        sns.distplot(\n",
    "            rdm[col],\n",
    "            label='{} (N={})'.format(roi, len(rdm[col])),\n",
    "            hist=True,\n",
    "            kde=False,\n",
    "            bins=20,\n",
    "            hist_kws={\n",
    "                \"alpha\": .8,\n",
    "                \"color\": COLORS[roi]\n",
    "            }\n",
    "        )\n",
    "        plt.axvline(rdm[col].mean, color=COLORS[roi], linestyle=':')\n",
    "    plt.ylabel('Voxel count')\n",
    "    plt.xlabel('Correlation (r)')\n",
    "    plt.legend()"
   ]
  },
  {
   "cell_type": "code",
   "execution_count": 5,
   "metadata": {
    "slideshow": {
     "slide_type": "slide"
    }
   },
   "outputs": [
    {
     "data": {
      "image/png": "[encoded data removed]",
      "text/plain": [
       "<Figure size 1008x288 with 3 Axes>"
      ]
     },
     "metadata": {
      "needs_background": "light"
     },
     "output_type": "display_data"
    }
   ],
   "source": [
    "plt.figure(figsize=(14, 4))\n",
    "plt.subplots_adjust(wspace=.3)\n",
    "# Correlated pupil size and visual cortex\n",
    "plt.subplot(1,3,1)\n",
    "plt.title('a) r(VC ~ pupil size)')\n",
    "roi_hist(ldm, 'r_vc_pupil')\n",
    "# Correlated luminance and visual cortex\n",
    "plt.subplot(1,3,2)\n",
    "plt.title('b) r(VC ~ luminance)')\n",
    "roi_hist(ldm, 'r_vc_lum')\n",
    "plt.subplot(1,3,3)\n",
    "plt.title('b) r(VC ~ visual change)')\n",
    "roi_hist(ldm, 'r_vc_change')\n",
    "plot.save('correlation-plot-dist', show=True)"
   ]
  },
  {
   "cell_type": "code",
   "execution_count": 6,
   "metadata": {
    "slideshow": {
     "slide_type": "slide"
    }
   },
   "outputs": [
    {
     "data": {
      "text/plain": [
       "(-0.55, 0.55)"
      ]
     },
     "execution_count": 6,
     "metadata": {},
     "output_type": "execute_result"
    },
    {
     "data": {
      "image/png": "[encoded data removed]",
      "text/plain": [
       "<Figure size 864x288 with 3 Axes>"
      ]
     },
     "metadata": {
      "needs_background": "light"
     },
     "output_type": "display_data"
    }
   ],
   "source": [
    "plt.figure(figsize=(12, 4))\n",
    "plt.subplots_adjust(wspace=.3)\n",
    "plt.subplot(1,3,1)\n",
    "# Correlated pupil size and luminance\n",
    "plt.ylabel('Correlation (r)')\n",
    "plt.title('c) r(pupil size ~ luminance)')\n",
    "plt.axhline(0, color='black', linestyle=':')\n",
    "r = sorted([sdm.r_lum_pupil.mean for sub, sdm in ops.split(dm.sub)])\n",
    "plt.plot(r ,'o', color='#607D8B')\n",
    "plt.xlabel('Participant')\n",
    "plt.ylim(-.55, .55)\n",
    "plt.xticks([])\n",
    "plt.subplot(1,3,2)\n",
    "# Correlated pupil size and luminance\n",
    "plt.ylabel('Correlation (r)')\n",
    "plt.title('c) r(pupil size ~ visual change)')\n",
    "plt.axhline(0, color='black', linestyle=':')\n",
    "r = sorted([sdm.r_change_pupil.mean for sub, sdm in ops.split(dm.sub)])\n",
    "plt.plot(r ,'o', color='#607D8B')\n",
    "plt.xlabel('Participant')\n",
    "plt.xticks([])\n",
    "plt.ylim(-.55, .55)\n",
    "plt.subplot(1,3,3)\n",
    "# Correlated pupil size and luminance\n",
    "plt.ylabel('Correlation (r)')\n",
    "plt.title('c) r(luminance ~ visual change)')\n",
    "plt.axhline(0, color='black', linestyle=':')\n",
    "r = sorted([sdm.r_lum_change.mean for sub, sdm in ops.split(dm.sub)])\n",
    "plt.plot(r ,'o', color='#607D8B')\n",
    "plt.xlabel('Participant')\n",
    "plt.xticks([])\n",
    "plt.ylim(-.55, .55)"
   ]
  },
  {
   "cell_type": "markdown",
   "metadata": {},
   "source": [
    "# Plot: PRF properties"
   ]
  },
  {
   "cell_type": "code",
   "execution_count": 7,
   "metadata": {
    "slideshow": {
     "slide_type": "slide"
    }
   },
   "outputs": [
    {
     "name": "stderr",
     "output_type": "stream",
     "text": [
      "/home/sebastiaan/anaconda3/lib/python3.7/site-packages/scipy/stats/stats.py:1713: FutureWarning: Using a non-tuple sequence for multidimensional indexing is deprecated; use `arr[tuple(seq)]` instead of `arr[seq]`. In the future this will be interpreted as an array index, `arr[np.array(seq)]`, which will result either in an error or a different result.\n",
      "  return np.add.reduce(sorted[indexer] * weights, axis=axis) / sumval\n"
     ]
    },
    {
     "data": {
      "image/png": "[encoded data removed]",
      "text/plain": [
       "<Figure size 720x288 with 2 Axes>"
      ]
     },
     "metadata": {
      "needs_background": "light"
     },
     "output_type": "display_data"
    }
   ],
   "source": [
    "plt.figure(figsize=(10, 4))\n",
    "plt.subplot(1, 2, 1)\n",
    "plt.title('a) PRF size')\n",
    "sns.barplot(x='roi', y='prf_sd', data=ldm)\n",
    "plt.ylabel('Std. Dev (px)')\n",
    "plt.subplot(1, 2, 2)\n",
    "plt.title('b) PRF eccentricity')\n",
    "sns.barplot(x='roi', y='ecc', data=ldm)\n",
    "plt.ylabel('Eccentricity (px)')\n",
    "plot.save('prf-properties-bar', show=True)"
   ]
  },
  {
   "cell_type": "code",
   "execution_count": 8,
   "metadata": {},
   "outputs": [
    {
     "data": {
      "image/png": "[encoded data removed]",
      "text/plain": [
       "<Figure size 720x288 with 2 Axes>"
      ]
     },
     "metadata": {
      "needs_background": "light"
     },
     "output_type": "display_data"
    }
   ],
   "source": [
    "plt.figure(figsize=(10, 4))\n",
    "plt.subplots_adjust(wspace=.3)\n",
    "plt.subplot(1, 2, 1)\n",
    "plt.title('a) PRF size')\n",
    "roi_hist(ldm, 'prf_sd')\n",
    "plt.xlabel('Size')\n",
    "plt.xlim(0, 64)\n",
    "plt.subplot(1, 2, 2)\n",
    "plt.title('b) PRF eccentricity')\n",
    "roi_hist(ldm, 'ecc')\n",
    "plt.xlabel('Eccentricity')\n",
    "plt.xlim(0, 100)\n",
    "plot.save('prf-properties', show=True)"
   ]
  },
  {
   "cell_type": "markdown",
   "metadata": {},
   "source": [
    "# Heatmaps\n",
    "\n",
    "Various heatmaps to inspect how properties are distributed across the visual field, across all ROIs and for each ROI separately."
   ]
  },
  {
   "cell_type": "markdown",
   "metadata": {},
   "source": [
    "First some helper functions."
   ]
  },
  {
   "cell_type": "code",
   "execution_count": 9,
   "metadata": {},
   "outputs": [],
   "source": [
    "def density_map(ldm, downsample=8):\n",
    "\n",
    "    a = np.zeros((2 * YC // downsample, 2 * XC // downsample))\n",
    "    for i, row in enumerate(ldm):\n",
    "        x = row.prf_x // downsample\n",
    "        y = row.prf_y // downsample\n",
    "        r = row.r_vc_pupil\n",
    "        a[y, x] += 1\n",
    "    plt.axis('off')\n",
    "    sns.heatmap(a, cbar=False)\n",
    "    \n",
    "    \n",
    "def size_map(ldm, downsample=16):\n",
    "\n",
    "    a = np.empty((len(ldm), 2 * YC // downsample, 2 * XC // downsample))\n",
    "    a[:] = np.nan\n",
    "    for i, row in enumerate(ldm):\n",
    "        x = row.prf_x // downsample\n",
    "        y = row.prf_y // downsample\n",
    "        r = row.prf_sd\n",
    "        a[i, y, x] = r\n",
    "    heatmap = np.nanmean(a, axis=0)\n",
    "    plt.axis('off')\n",
    "    sns.heatmap(heatmap, cbar=False)\n",
    "        \n",
    "    \n",
    "def correlation_map(ldm, downsample=16):\n",
    "\n",
    "    a = np.empty((len(ldm), 2 * YC // downsample, 2 * XC // downsample))\n",
    "    a[:] = np.nan\n",
    "    for i, row in enumerate(ldm):\n",
    "        x = row.prf_x // downsample\n",
    "        y = row.prf_y // downsample\n",
    "        r = row.r_vc_pupil\n",
    "        a[i, y, x] = r\n",
    "    heatmap = np.nanmean(a, axis=0)\n",
    "    plt.axis('off')\n",
    "    sns.heatmap(heatmap, cbar=False, center=0)\n",
    "    \n",
    "    \n",
    "def roi_plot(ldm, fnc):\n",
    "        \n",
    "    plt.figure(figsize=(15, 3))\n",
    "    plt.subplots_adjust(wspace=.1, hspace=.1)\n",
    "    plt.subplot(1, 5, 1)\n",
    "    plt.title('All (V1 - V4)')\n",
    "    fnc(ldm)\n",
    "    plt.subplot(1, 5, 2)\n",
    "    plt.title('V1')\n",
    "    fnc(ldm.roi == 'V1')\n",
    "    plt.subplot(1, 5, 3)    \n",
    "    plt.title('V2')\n",
    "    fnc(ldm.roi == 'V2')\n",
    "    plt.subplot(1, 5, 4)    \n",
    "    plt.title('V3')\n",
    "    fnc(ldm.roi == 'V3')\n",
    "    plt.subplot(1, 5, 5)\n",
    "    plt.title('V4')\n",
    "    fnc(ldm.roi == 'V4')\n"
   ]
  },
  {
   "cell_type": "markdown",
   "metadata": {},
   "source": [
    "The density of PRFs."
   ]
  },
  {
   "cell_type": "code",
   "execution_count": 10,
   "metadata": {
    "slideshow": {
     "slide_type": "slide"
    }
   },
   "outputs": [
    {
     "data": {
      "image/png": "[encoded data removed]",
      "text/plain": [
       "<Figure size 1080x216 with 5 Axes>"
      ]
     },
     "metadata": {
      "needs_background": "light"
     },
     "output_type": "display_data"
    }
   ],
   "source": [
    "roi_plot(ldm, density_map)\n",
    "plot.save('map-density', show=True)"
   ]
  },
  {
   "cell_type": "code",
   "execution_count": 11,
   "metadata": {},
   "outputs": [
    {
     "name": "stderr",
     "output_type": "stream",
     "text": [
      "/home/sebastiaan/anaconda3/lib/python3.7/site-packages/ipykernel_launcher.py:36: RuntimeWarning: Mean of empty slice\n"
     ]
    },
    {
     "data": {
      "image/png": "[encoded data removed]",
      "text/plain": [
       "<Figure size 1080x216 with 5 Axes>"
      ]
     },
     "metadata": {
      "needs_background": "light"
     },
     "output_type": "display_data"
    }
   ],
   "source": [
    "roi_plot(ldm, correlation_map)\n",
    "plot.save('map-correlation', show=True)"
   ]
  },
  {
   "cell_type": "code",
   "execution_count": 12,
   "metadata": {},
   "outputs": [
    {
     "name": "stderr",
     "output_type": "stream",
     "text": [
      "/home/sebastiaan/anaconda3/lib/python3.7/site-packages/ipykernel_launcher.py:22: RuntimeWarning: Mean of empty slice\n"
     ]
    },
    {
     "data": {
      "image/png": "[encoded data removed]",
      "text/plain": [
       "<Figure size 1080x216 with 5 Axes>"
      ]
     },
     "metadata": {
      "needs_background": "light"
     },
     "output_type": "display_data"
    }
   ],
   "source": [
    "roi_plot(ldm, size_map)\n",
    "plot.save('map-prf-size', show=True)"
   ]
  },
  {
   "cell_type": "markdown",
   "metadata": {},
   "source": [
    "# Statistics"
   ]
  },
  {
   "cell_type": "code",
   "execution_count": 13,
   "metadata": {},
   "outputs": [],
   "source": [
    "from datamatrix.rbridge import lme4\n",
    "lme4.verbose = True"
   ]
  },
  {
   "cell_type": "markdown",
   "metadata": {},
   "source": [
    "## Relationship between PRF properties and the VC-pupil correlation."
   ]
  },
  {
   "cell_type": "code",
   "execution_count": 14,
   "metadata": {},
   "outputs": [
    {
     "data": {
      "text/html": [
       "<table><tr><th>df</th><th>effect</th><th>est</th><th>p</th><th>se</th><th>t</th></tr><tr><td>14.0008755439492</td><td>(Intercept)</td><td>-0.0341366206991661</td><td>0.00161965400760526</td><td>0.00876579377870117</td><td>-3.89429885769274</td></tr></table>"
      ],
      "text/plain": [
       "DataMatrix[117, 0x7f0d372f6630]\n",
       "+---+------------------+-------------+---------------------+---------------------+---------------------+-------------------+\n",
       "| # |        df        |    effect   |         est         |          p          |          se         |         t         |\n",
       "+---+------------------+-------------+---------------------+---------------------+---------------------+-------------------+\n",
       "| 0 | 14.0008755439492 | (Intercept) | -0.0341366206991661 | 0.00161965400760526 | 0.00876579377870117 | -3.89429885769274 |\n",
       "+---+------------------+-------------+---------------------+---------------------+---------------------+-------------------+"
      ]
     },
     "execution_count": 14,
     "metadata": {},
     "output_type": "execute_result"
    }
   ],
   "source": [
    "lme4.lmer(ldm, 'r_vc_pupil ~ (1|sub)')"
   ]
  },
  {
   "cell_type": "code",
   "execution_count": 15,
   "metadata": {},
   "outputs": [
    {
     "data": {
      "text/html": [
       "<table><tr><th>df</th><th>effect</th><th>est</th><th>p</th><th>se</th><th>t</th></tr><tr><td>14.0032402827611</td><td>(Intercept)</td><td>-0.0284427737708673</td><td>0.00276585397930101</td><td>0.00784966266420389</td><td>-3.62343899191647</td></tr><tr><td>13.9666977163656</td><td>r_vc_lum</td><td>-0.517823380690242</td><td>0.000770621577245304</td><td>0.121066559782674</td><td>-4.27717927741389</td></tr></table>"
      ],
      "text/plain": [
       "DataMatrix[132, 0x7f0d37362160]\n",
       "+---+------------------+-------------+---------------------+----------------------+---------------------+-------------------+\n",
       "| # |        df        |    effect   |         est         |          p           |          se         |         t         |\n",
       "+---+------------------+-------------+---------------------+----------------------+---------------------+-------------------+\n",
       "| 0 | 14.0032402827611 | (Intercept) | -0.0284427737708673 | 0.00276585397930101  | 0.00784966266420389 | -3.62343899191647 |\n",
       "| 1 | 13.9666977163656 |   r_vc_lum  |  -0.517823380690242 | 0.000770621577245304 |  0.121066559782674  | -4.27717927741389 |\n",
       "+---+------------------+-------------+---------------------+----------------------+---------------------+-------------------+"
      ]
     },
     "execution_count": 15,
     "metadata": {},
     "output_type": "execute_result"
    }
   ],
   "source": [
    "lme4.lmer(ldm, 'r_vc_pupil ~ r_vc_lum + (1+r_vc_lum|sub)')"
   ]
  },
  {
   "cell_type": "code",
   "execution_count": 16,
   "metadata": {},
   "outputs": [
    {
     "data": {
      "text/html": [
       "<table><tr><th>df</th><th>effect</th><th>est</th><th>p</th><th>se</th><th>t</th></tr><tr><td>14.0019870645091</td><td>(Intercept)</td><td>-0.0323643508474074</td><td>0.00518429418912106</td><td>0.00978537582460037</td><td>-3.30742032064253</td></tr><tr><td>14.0380173638301</td><td>c_roi</td><td>-0.00296931435375754</td><td>0.264403581973199</td><td>0.00255418599429885</td><td>-1.16252863353933</td></tr></table>"
      ],
      "text/plain": [
       "DataMatrix[147, 0x7f0d373417b8]\n",
       "+---+------------------+-------------+----------------------+---------------------+---------------------+-------------------+\n",
       "| # |        df        |    effect   |         est          |          p          |          se         |         t         |\n",
       "+---+------------------+-------------+----------------------+---------------------+---------------------+-------------------+\n",
       "| 0 | 14.0019870645091 | (Intercept) | -0.0323643508474074  | 0.00518429418912106 | 0.00978537582460037 | -3.30742032064253 |\n",
       "| 1 | 14.0380173638301 |    c_roi    | -0.00296931435375754 |  0.264403581973199  | 0.00255418599429885 | -1.16252863353933 |\n",
       "+---+------------------+-------------+----------------------+---------------------+---------------------+-------------------+"
      ]
     },
     "execution_count": 16,
     "metadata": {},
     "output_type": "execute_result"
    }
   ],
   "source": [
    "ldm.c_roi = ldm.roi @ (lambda roi: 0 if roi == 'V1' else 1 if roi == 'V2' else 2 if roi == 'V3' else 3)\n",
    "lme4.lmer(ldm, 'r_vc_pupil ~ c_roi + (1+c_roi|sub)')"
   ]
  },
  {
   "cell_type": "code",
   "execution_count": 17,
   "metadata": {},
   "outputs": [
    {
     "data": {
      "text/html": [
       "<table><tr><th>df</th><th>effect</th><th>est</th><th>p</th><th>se</th><th>t</th></tr><tr><td>42.4335889399685</td><td>(Intercept)</td><td>-0.0459439451878322</td><td>7.27449150436283e-08</td><td>0.00706947621756295</td><td>-6.49891785104135</td></tr><tr><td>19.1936012257823</td><td>prf_y</td><td>0.000173401828071532</td><td>0.0021508664932052</td><td>4.89567472193022e-05</td><td>3.54193932237322</td></tr></table>"
      ],
      "text/plain": [
       "DataMatrix[162, 0x7f0d373502e8]\n",
       "+---+------------------+-------------+----------------------+----------------------+----------------------+-------------------+\n",
       "| # |        df        |    effect   |         est          |          p           |          se          |         t         |\n",
       "+---+------------------+-------------+----------------------+----------------------+----------------------+-------------------+\n",
       "| 0 | 42.4335889399685 | (Intercept) | -0.0459439451878322  | 7.27449150436283e-08 | 0.00706947621756295  | -6.49891785104135 |\n",
       "| 1 | 19.1936012257823 |    prf_y    | 0.000173401828071532 |  0.0021508664932052  | 4.89567472193022e-05 |  3.54193932237322 |\n",
       "+---+------------------+-------------+----------------------+----------------------+----------------------+-------------------+"
      ]
     },
     "execution_count": 17,
     "metadata": {},
     "output_type": "execute_result"
    }
   ],
   "source": [
    "lme4.lmer(ldm, 'r_vc_pupil ~ prf_y + (1+prf_y|sub)')"
   ]
  },
  {
   "cell_type": "code",
   "execution_count": 18,
   "metadata": {},
   "outputs": [
    {
     "data": {
      "text/html": [
       "<table><tr><th>df</th><th>effect</th><th>est</th><th>p</th><th>se</th><th>t</th></tr><tr><td>22.0607929143391</td><td>(Intercept)</td><td>-0.0281307440110495</td><td>0.00543350862106946</td><td>0.00912641481962847</td><td>-3.0823433480744</td></tr><tr><td>18.3852519172716</td><td>prf_x</td><td>-8.2513752422622e-05</td><td>0.041841916491774</td><td>3.77185063266283e-05</td><td>-2.1876198306498</td></tr></table>"
      ],
      "text/plain": [
       "DataMatrix[177, 0x7f0d37350630]\n",
       "+---+------------------+-------------+----------------------+---------------------+----------------------+------------------+\n",
       "| # |        df        |    effect   |         est          |          p          |          se          |        t         |\n",
       "+---+------------------+-------------+----------------------+---------------------+----------------------+------------------+\n",
       "| 0 | 22.0607929143391 | (Intercept) | -0.0281307440110495  | 0.00543350862106946 | 0.00912641481962847  | -3.0823433480744 |\n",
       "| 1 | 18.3852519172716 |    prf_x    | -8.2513752422622e-05 |  0.041841916491774  | 3.77185063266283e-05 | -2.1876198306498 |\n",
       "+---+------------------+-------------+----------------------+---------------------+----------------------+------------------+"
      ]
     },
     "execution_count": 18,
     "metadata": {},
     "output_type": "execute_result"
    }
   ],
   "source": [
    "lme4.lmer(ldm, 'r_vc_pupil ~ prf_x + (1+prf_x|sub)')"
   ]
  },
  {
   "cell_type": "code",
   "execution_count": 19,
   "metadata": {},
   "outputs": [
    {
     "data": {
      "text/html": [
       "<table><tr><th>df</th><th>effect</th><th>est</th><th>p</th><th>se</th><th>t</th></tr><tr><td>47.5254727178109</td><td>(Intercept)</td><td>-0.0341270679246758</td><td>4.86663245212808e-07</td><td>0.00586392326588618</td><td>-5.81983535207779</td></tr><tr><td>15.6414101618801</td><td>ecc</td><td>1.63429732526709e-05</td><td>0.799174564550953</td><td>6.31523130982844e-05</td><td>0.258786613678524</td></tr></table>"
      ],
      "text/plain": [
       "DataMatrix[192, 0x7f0d373510b8]\n",
       "+---+------------------+-------------+----------------------+----------------------+----------------------+-------------------+\n",
       "| # |        df        |    effect   |         est          |          p           |          se          |         t         |\n",
       "+---+------------------+-------------+----------------------+----------------------+----------------------+-------------------+\n",
       "| 0 | 47.5254727178109 | (Intercept) | -0.0341270679246758  | 4.86663245212808e-07 | 0.00586392326588618  | -5.81983535207779 |\n",
       "| 1 | 15.6414101618801 |     ecc     | 1.63429732526709e-05 |  0.799174564550953   | 6.31523130982844e-05 | 0.258786613678524 |\n",
       "+---+------------------+-------------+----------------------+----------------------+----------------------+-------------------+"
      ]
     },
     "execution_count": 19,
     "metadata": {},
     "output_type": "execute_result"
    }
   ],
   "source": [
    "lme4.lmer(ldm, 'r_vc_pupil ~ ecc + (1+ecc|sub)')"
   ]
  },
  {
   "cell_type": "code",
   "execution_count": 20,
   "metadata": {},
   "outputs": [
    {
     "data": {
      "text/html": [
       "<table><tr><th>df</th><th>effect</th><th>est</th><th>p</th><th>se</th><th>t</th></tr><tr><td>14.2583520176401</td><td>(Intercept)</td><td>-0.0321969909037184</td><td>0.0124285485839095</td><td>0.0112600665314206</td><td>-2.85939615133486</td></tr><tr><td>14.1503277839589</td><td>prf_sd</td><td>-0.000102975927116728</td><td>0.576893145166604</td><td>0.000180312911103416</td><td>-0.57109569407189</td></tr></table>"
      ],
      "text/plain": [
       "DataMatrix[207, 0x7f0d3732c3c8]\n",
       "+---+------------------+-------------+-----------------------+--------------------+----------------------+-------------------+\n",
       "| # |        df        |    effect   |          est          |         p          |          se          |         t         |\n",
       "+---+------------------+-------------+-----------------------+--------------------+----------------------+-------------------+\n",
       "| 0 | 14.2583520176401 | (Intercept) |  -0.0321969909037184  | 0.0124285485839095 |  0.0112600665314206  | -2.85939615133486 |\n",
       "| 1 | 14.1503277839589 |    prf_sd   | -0.000102975927116728 | 0.576893145166604  | 0.000180312911103416 | -0.57109569407189 |\n",
       "+---+------------------+-------------+-----------------------+--------------------+----------------------+-------------------+"
      ]
     },
     "execution_count": 20,
     "metadata": {},
     "output_type": "execute_result"
    }
   ],
   "source": [
    "lme4.lmer(ldm, 'r_vc_pupil ~ prf_sd + (1+prf_sd|sub)')"
   ]
  },
  {
   "cell_type": "markdown",
   "metadata": {},
   "source": [
    "## Basic PRF properties as a function of ROI"
   ]
  },
  {
   "cell_type": "code",
   "execution_count": 21,
   "metadata": {},
   "outputs": [
    {
     "data": {
      "text/html": [
       "<table><tr><th>df</th><th>effect</th><th>est</th><th>p</th><th>se</th><th>t</th></tr><tr><td>14.0260150866935</td><td>(Intercept)</td><td>23.1354726471499</td><td>8.60983945378574e-08</td><td>2.30148252679545</td><td>10.052421592513</td></tr><tr><td>13.9812663126696</td><td>c_roi</td><td>5.30937250974727</td><td>0.00112760109034772</td><td>1.30123264204</td><td>4.08026384999343</td></tr></table>"
      ],
      "text/plain": [
       "DataMatrix[222, 0x7f0d37349588]\n",
       "+---+------------------+-------------+------------------+----------------------+------------------+------------------+\n",
       "| # |        df        |    effect   |       est        |          p           |        se        |        t         |\n",
       "+---+------------------+-------------+------------------+----------------------+------------------+------------------+\n",
       "| 0 | 14.0260150866935 | (Intercept) | 23.1354726471499 | 8.60983945378574e-08 | 2.30148252679545 | 10.052421592513  |\n",
       "| 1 | 13.9812663126696 |    c_roi    | 5.30937250974727 | 0.00112760109034772  |  1.30123264204   | 4.08026384999343 |\n",
       "+---+------------------+-------------+------------------+----------------------+------------------+------------------+"
      ]
     },
     "execution_count": 21,
     "metadata": {},
     "output_type": "execute_result"
    }
   ],
   "source": [
    "lme4.lmer(ldm, 'ecc ~ c_roi + (1+c_roi|sub)')"
   ]
  },
  {
   "cell_type": "code",
   "execution_count": 22,
   "metadata": {},
   "outputs": [
    {
     "data": {
      "text/html": [
       "<table><tr><th>df</th><th>effect</th><th>est</th><th>p</th><th>se</th><th>t</th></tr><tr><td>14.0013136975219</td><td>(Intercept)</td><td>22.9111894769519</td><td>4.61011216535057e-09</td><td>1.80747198085128</td><td>12.6758199959267</td></tr><tr><td>14.0099467599685</td><td>c_roi</td><td>2.26248033877315</td><td>0.000287197841963537</td><td>0.472303268084342</td><td>4.79031269029696</td></tr></table>"
      ],
      "text/plain": [
       "DataMatrix[237, 0x7f0d372ee5c0]\n",
       "+---+------------------+-------------+------------------+----------------------+-------------------+------------------+\n",
       "| # |        df        |    effect   |       est        |          p           |         se        |        t         |\n",
       "+---+------------------+-------------+------------------+----------------------+-------------------+------------------+\n",
       "| 0 | 14.0013136975219 | (Intercept) | 22.9111894769519 | 4.61011216535057e-09 |  1.80747198085128 | 12.6758199959267 |\n",
       "| 1 | 14.0099467599685 |    c_roi    | 2.26248033877315 | 0.000287197841963537 | 0.472303268084342 | 4.79031269029696 |\n",
       "+---+------------------+-------------+------------------+----------------------+-------------------+------------------+"
      ]
     },
     "execution_count": 22,
     "metadata": {},
     "output_type": "execute_result"
    }
   ],
   "source": [
    "lme4.lmer(ldm, 'prf_sd ~ c_roi + (1+c_roi|sub)')"
   ]
  },
  {
   "cell_type": "code",
   "execution_count": 23,
   "metadata": {},
   "outputs": [
    {
     "data": {
      "text/html": [
       "<table><tr><th>df</th><th>effect</th><th>est</th><th>p</th><th>se</th><th>t</th></tr><tr><td>22.2222854906384</td><td>(Intercept)</td><td>18.4996382138764</td><td>5.96117638217953e-11</td><td>1.58513606548376</td><td>11.6706941547195</td></tr><tr><td>15.7079699613809</td><td>ecc</td><td>0.224889816146787</td><td>9.80236555950877e-12</td><td>0.0128245234038992</td><td>17.5359199764423</td></tr></table>"
      ],
      "text/plain": [
       "DataMatrix[252, 0x7f0d373490b8]\n",
       "+---+------------------+-------------+-------------------+----------------------+--------------------+------------------+\n",
       "| # |        df        |    effect   |        est        |          p           |         se         |        t         |\n",
       "+---+------------------+-------------+-------------------+----------------------+--------------------+------------------+\n",
       "| 0 | 22.2222854906384 | (Intercept) |  18.4996382138764 | 5.96117638217953e-11 |  1.58513606548376  | 11.6706941547195 |\n",
       "| 1 | 15.7079699613809 |     ecc     | 0.224889816146787 | 9.80236555950877e-12 | 0.0128245234038992 | 17.5359199764423 |\n",
       "+---+------------------+-------------+-------------------+----------------------+--------------------+------------------+"
      ]
     },
     "execution_count": 23,
     "metadata": {},
     "output_type": "execute_result"
    }
   ],
   "source": [
    "lme4.lmer(ldm, 'prf_sd ~ ecc + (1+ecc|sub)')"
   ]
  },
  {
   "cell_type": "markdown",
   "metadata": {},
   "source": [
    "## Relationship between luminance and VC activity"
   ]
  },
  {
   "cell_type": "code",
   "execution_count": 24,
   "metadata": {},
   "outputs": [
    {
     "data": {
      "text/html": [
       "<table><tr><th>df</th><th>effect</th><th>est</th><th>p</th><th>se</th><th>t</th></tr><tr><td>13.9994315000022</td><td>(Intercept)</td><td>0.00882498269877528</td><td>0.117579317718877</td><td>0.0052917033444574</td><td>1.66770170667611</td></tr></table>"
      ],
      "text/plain": [
       "DataMatrix[267, 0x7f0d373511d0]\n",
       "+---+------------------+-------------+---------------------+-------------------+--------------------+------------------+\n",
       "| # |        df        |    effect   |         est         |         p         |         se         |        t         |\n",
       "+---+------------------+-------------+---------------------+-------------------+--------------------+------------------+\n",
       "| 0 | 13.9994315000022 | (Intercept) | 0.00882498269877528 | 0.117579317718877 | 0.0052917033444574 | 1.66770170667611 |\n",
       "+---+------------------+-------------+---------------------+-------------------+--------------------+------------------+"
      ]
     },
     "execution_count": 24,
     "metadata": {},
     "output_type": "execute_result"
    }
   ],
   "source": [
    "lme4.lmer(ldm, 'r_vc_lum ~ (1|sub)')"
   ]
  },
  {
   "cell_type": "code",
   "execution_count": 25,
   "metadata": {},
   "outputs": [
    {
     "data": {
      "text/html": [
       "<table><tr><th>df</th><th>effect</th><th>est</th><th>p</th><th>se</th><th>t</th></tr><tr><td>14.0010356259088</td><td>(Intercept)</td><td>0.01071048017291</td><td>0.0997563633919686</td><td>0.00607618859570403</td><td>1.76269712570846</td></tr><tr><td>14.0537763366122</td><td>c_roi</td><td>-0.00313598689887875</td><td>0.113182913098292</td><td>0.00185620262435855</td><td>-1.68946367046672</td></tr></table>"
      ],
      "text/plain": [
       "DataMatrix[282, 0x7f0d37350fd0]\n",
       "+---+------------------+-------------+----------------------+--------------------+---------------------+-------------------+\n",
       "| # |        df        |    effect   |         est          |         p          |          se         |         t         |\n",
       "+---+------------------+-------------+----------------------+--------------------+---------------------+-------------------+\n",
       "| 0 | 14.0010356259088 | (Intercept) |   0.01071048017291   | 0.0997563633919686 | 0.00607618859570403 |  1.76269712570846 |\n",
       "| 1 | 14.0537763366122 |    c_roi    | -0.00313598689887875 | 0.113182913098292  | 0.00185620262435855 | -1.68946367046672 |\n",
       "+---+------------------+-------------+----------------------+--------------------+---------------------+-------------------+"
      ]
     },
     "execution_count": 25,
     "metadata": {},
     "output_type": "execute_result"
    }
   ],
   "source": [
    "lme4.lmer(ldm, 'r_vc_lum ~ c_roi + (1+c_roi|sub)')"
   ]
  },
  {
   "cell_type": "code",
   "execution_count": 26,
   "metadata": {},
   "outputs": [
    {
     "data": {
      "text/html": [
       "<table><tr><th>df</th><th>effect</th><th>est</th><th>p</th><th>se</th><th>t</th></tr><tr><td>14.2542004012757</td><td>(Intercept)</td><td>-0.0163547986574673</td><td>0.0783577379754474</td><td>0.00862404289565662</td><td>-1.89641898299279</td></tr><tr><td>14.1622088223083</td><td>prf_y</td><td>0.000369529814775712</td><td>0.000776746550939156</td><td>8.67894353983082e-05</td><td>4.25777415280795</td></tr></table>"
      ],
      "text/plain": [
       "DataMatrix[297, 0x7f0d37341390]\n",
       "+---+------------------+-------------+----------------------+----------------------+----------------------+-------------------+\n",
       "| # |        df        |    effect   |         est          |          p           |          se          |         t         |\n",
       "+---+------------------+-------------+----------------------+----------------------+----------------------+-------------------+\n",
       "| 0 | 14.2542004012757 | (Intercept) | -0.0163547986574673  |  0.0783577379754474  | 0.00862404289565662  | -1.89641898299279 |\n",
       "| 1 | 14.1622088223083 |    prf_y    | 0.000369529814775712 | 0.000776746550939156 | 8.67894353983082e-05 |  4.25777415280795 |\n",
       "+---+------------------+-------------+----------------------+----------------------+----------------------+-------------------+"
      ]
     },
     "execution_count": 26,
     "metadata": {},
     "output_type": "execute_result"
    }
   ],
   "source": [
    "lme4.lmer(ldm, 'r_vc_lum ~ prf_y + (1+prf_y|sub)')"
   ]
  },
  {
   "cell_type": "code",
   "execution_count": 27,
   "metadata": {},
   "outputs": [
    {
     "data": {
      "text/html": [
       "<table><tr><th>df</th><th>effect</th><th>est</th><th>p</th><th>se</th><th>t</th></tr><tr><td>27.5353418346884</td><td>(Intercept)</td><td>0.000668623574187428</td><td>0.903644694832763</td><td>0.00547249671979994</td><td>0.122178889896506</td></tr><tr><td>17.869522713235</td><td>prf_x</td><td>9.67172344556087e-05</td><td>0.0155085880285608</td><td>3.61529405531314e-05</td><td>2.67522455921588</td></tr></table>"
      ],
      "text/plain": [
       "DataMatrix[312, 0x7f0d372eeac8]\n",
       "+---+------------------+-------------+----------------------+--------------------+----------------------+-------------------+\n",
       "| # |        df        |    effect   |         est          |         p          |          se          |         t         |\n",
       "+---+------------------+-------------+----------------------+--------------------+----------------------+-------------------+\n",
       "| 0 | 27.5353418346884 | (Intercept) | 0.000668623574187428 | 0.903644694832763  | 0.00547249671979994  | 0.122178889896506 |\n",
       "| 1 | 17.869522713235  |    prf_x    | 9.67172344556087e-05 | 0.0155085880285608 | 3.61529405531314e-05 |  2.67522455921588 |\n",
       "+---+------------------+-------------+----------------------+--------------------+----------------------+-------------------+"
      ]
     },
     "execution_count": 27,
     "metadata": {},
     "output_type": "execute_result"
    }
   ],
   "source": [
    "lme4.lmer(ldm, 'r_vc_lum ~ prf_x + (1+prf_x|sub)')"
   ]
  },
  {
   "cell_type": "code",
   "execution_count": 28,
   "metadata": {},
   "outputs": [
    {
     "data": {
      "text/html": [
       "<table><tr><th>df</th><th>effect</th><th>est</th><th>p</th><th>se</th><th>t</th></tr><tr><td>28.4086660464472</td><td>(Intercept)</td><td>0.00829689492625549</td><td>0.0844401520825839</td><td>0.00464019369398904</td><td>1.78804926548721</td></tr><tr><td>19.0690463132925</td><td>ecc</td><td>3.75099313580564e-05</td><td>0.368266062613669</td><td>4.07021972169873e-05</td><td>0.92157018349863</td></tr></table>"
      ],
      "text/plain": [
       "DataMatrix[327, 0x7f0d37351908]\n",
       "+---+------------------+-------------+----------------------+--------------------+----------------------+------------------+\n",
       "| # |        df        |    effect   |         est          |         p          |          se          |        t         |\n",
       "+---+------------------+-------------+----------------------+--------------------+----------------------+------------------+\n",
       "| 0 | 28.4086660464472 | (Intercept) | 0.00829689492625549  | 0.0844401520825839 | 0.00464019369398904  | 1.78804926548721 |\n",
       "| 1 | 19.0690463132925 |     ecc     | 3.75099313580564e-05 | 0.368266062613669  | 4.07021972169873e-05 | 0.92157018349863 |\n",
       "+---+------------------+-------------+----------------------+--------------------+----------------------+------------------+"
      ]
     },
     "execution_count": 28,
     "metadata": {},
     "output_type": "execute_result"
    }
   ],
   "source": [
    "lme4.lmer(ldm, 'r_vc_lum ~ ecc + (1+ecc|sub)')"
   ]
  },
  {
   "cell_type": "code",
   "execution_count": 29,
   "metadata": {},
   "outputs": [
    {
     "data": {
      "text/html": [
       "<table><tr><th>df</th><th>effect</th><th>est</th><th>p</th><th>se</th><th>t</th></tr><tr><td>14.217661849049</td><td>(Intercept)</td><td>0.00395552426622177</td><td>0.519455194955996</td><td>0.00598814747117481</td><td>0.660558926656784</td></tr><tr><td>14.1573471042265</td><td>prf_sd</td><td>0.000175476129326902</td><td>0.178008440449215</td><td>0.000123804751310779</td><td>1.41736183360536</td></tr></table>"
      ],
      "text/plain": [
       "DataMatrix[342, 0x7f0d37349908]\n",
       "+---+------------------+-------------+----------------------+-------------------+----------------------+-------------------+\n",
       "| # |        df        |    effect   |         est          |         p         |          se          |         t         |\n",
       "+---+------------------+-------------+----------------------+-------------------+----------------------+-------------------+\n",
       "| 0 | 14.217661849049  | (Intercept) | 0.00395552426622177  | 0.519455194955996 | 0.00598814747117481  | 0.660558926656784 |\n",
       "| 1 | 14.1573471042265 |    prf_sd   | 0.000175476129326902 | 0.178008440449215 | 0.000123804751310779 |  1.41736183360536 |\n",
       "+---+------------------+-------------+----------------------+-------------------+----------------------+-------------------+"
      ]
     },
     "execution_count": 29,
     "metadata": {},
     "output_type": "execute_result"
    }
   ],
   "source": [
    "lme4.lmer(ldm, 'r_vc_lum ~ prf_sd + (1+prf_sd|sub)')"
   ]
  },
  {
   "cell_type": "markdown",
   "metadata": {},
   "source": [
    "## Relationship between visual change and VC activity"
   ]
  },
  {
   "cell_type": "code",
   "execution_count": 30,
   "metadata": {},
   "outputs": [
    {
     "data": {
      "text/html": [
       "<table><tr><th>df</th><th>effect</th><th>est</th><th>p</th><th>se</th><th>t</th></tr><tr><td>14.0012019477521</td><td>(Intercept)</td><td>0.0757521397967056</td><td>4.61680592175703e-07</td><td>0.00863679752898391</td><td>8.77085974778172</td></tr></table>"
      ],
      "text/plain": [
       "DataMatrix[357, 0x7f0d373754a8]\n",
       "+---+------------------+-------------+--------------------+----------------------+---------------------+------------------+\n",
       "| # |        df        |    effect   |        est         |          p           |          se         |        t         |\n",
       "+---+------------------+-------------+--------------------+----------------------+---------------------+------------------+\n",
       "| 0 | 14.0012019477521 | (Intercept) | 0.0757521397967056 | 4.61680592175703e-07 | 0.00863679752898391 | 8.77085974778172 |\n",
       "+---+------------------+-------------+--------------------+----------------------+---------------------+------------------+"
      ]
     },
     "execution_count": 30,
     "metadata": {},
     "output_type": "execute_result"
    }
   ],
   "source": [
    "lme4.lmer(ldm, 'r_vc_change ~ (1|sub)')"
   ]
  },
  {
   "cell_type": "code",
   "execution_count": 31,
   "metadata": {},
   "outputs": [
    {
     "data": {
      "text/html": [
       "<table><tr><th>df</th><th>effect</th><th>est</th><th>p</th><th>se</th><th>t</th></tr><tr><td>14.0125242395584</td><td>(Intercept)</td><td>0.0715307218333971</td><td>1.01867362810564e-06</td><td>0.00872242764023455</td><td>8.2007813402134</td></tr><tr><td>14.1712077638561</td><td>c_roi</td><td>0.00715611810135379</td><td>0.00149137182095883</td><td>0.0018230603766882</td><td>3.92533247546836</td></tr></table>"
      ],
      "text/plain": [
       "DataMatrix[372, 0x7f0d373262e8]\n",
       "+---+------------------+-------------+---------------------+----------------------+---------------------+------------------+\n",
       "| # |        df        |    effect   |         est         |          p           |          se         |        t         |\n",
       "+---+------------------+-------------+---------------------+----------------------+---------------------+------------------+\n",
       "| 0 | 14.0125242395584 | (Intercept) |  0.0715307218333971 | 1.01867362810564e-06 | 0.00872242764023455 | 8.2007813402134  |\n",
       "| 1 | 14.1712077638561 |    c_roi    | 0.00715611810135379 | 0.00149137182095883  |  0.0018230603766882 | 3.92533247546836 |\n",
       "+---+------------------+-------------+---------------------+----------------------+---------------------+------------------+"
      ]
     },
     "execution_count": 31,
     "metadata": {},
     "output_type": "execute_result"
    }
   ],
   "source": [
    "lme4.lmer(ldm, 'r_vc_change ~ c_roi + (1+c_roi|sub)')"
   ]
  },
  {
   "cell_type": "code",
   "execution_count": 32,
   "metadata": {},
   "outputs": [
    {
     "data": {
      "text/html": [
       "<table><tr><th>df</th><th>effect</th><th>est</th><th>p</th><th>se</th><th>t</th></tr><tr><td>2.47810824628764</td><td>(Intercept)</td><td>0.0629794172414745</td><td>0.044447098345184</td><td>0.0165864392550544</td><td>3.79704264869765</td></tr><tr><td>3.52372407254673</td><td>prf_y</td><td>0.000189901851776631</td><td>0.194236502086927</td><td>0.00011865659836769</td><td>1.60043229275938</td></tr></table>"
      ],
      "text/plain": [
       "DataMatrix[387, 0x7f0d37375320]\n",
       "+---+------------------+-------------+----------------------+-------------------+---------------------+------------------+\n",
       "| # |        df        |    effect   |         est          |         p         |          se         |        t         |\n",
       "+---+------------------+-------------+----------------------+-------------------+---------------------+------------------+\n",
       "| 0 | 2.47810824628764 | (Intercept) |  0.0629794172414745  | 0.044447098345184 |  0.0165864392550544 | 3.79704264869765 |\n",
       "| 1 | 3.52372407254673 |    prf_y    | 0.000189901851776631 | 0.194236502086927 | 0.00011865659836769 | 1.60043229275938 |\n",
       "+---+------------------+-------------+----------------------+-------------------+---------------------+------------------+"
      ]
     },
     "execution_count": 32,
     "metadata": {},
     "output_type": "execute_result"
    }
   ],
   "source": [
    "lme4.lmer(ldm, 'r_vc_change ~ prf_y + (1+prf_y|sub)')"
   ]
  },
  {
   "cell_type": "code",
   "execution_count": 33,
   "metadata": {},
   "outputs": [
    {
     "data": {
      "text/html": [
       "<table><tr><th>df</th><th>effect</th><th>est</th><th>p</th><th>se</th><th>t</th></tr><tr><td>5.53652654434878</td><td>(Intercept)</td><td>0.0765654224806745</td><td>0.00338611919248436</td><td>0.0156232237961364</td><td>4.90074414088653</td></tr><tr><td>6.72059129171766</td><td>prf_x</td><td>1.18384073641621e-05</td><td>0.897388460723505</td><td>8.83999161038071e-05</td><td>0.133918762437063</td></tr></table>"
      ],
      "text/plain": [
       "DataMatrix[402, 0x7f0d37349be0]\n",
       "+---+------------------+-------------+----------------------+---------------------+----------------------+-------------------+\n",
       "| # |        df        |    effect   |         est          |          p          |          se          |         t         |\n",
       "+---+------------------+-------------+----------------------+---------------------+----------------------+-------------------+\n",
       "| 0 | 5.53652654434878 | (Intercept) |  0.0765654224806745  | 0.00338611919248436 |  0.0156232237961364  |  4.90074414088653 |\n",
       "| 1 | 6.72059129171766 |    prf_x    | 1.18384073641621e-05 |  0.897388460723505  | 8.83999161038071e-05 | 0.133918762437063 |\n",
       "+---+------------------+-------------+----------------------+---------------------+----------------------+-------------------+"
      ]
     },
     "execution_count": 33,
     "metadata": {},
     "output_type": "execute_result"
    }
   ],
   "source": [
    "lme4.lmer(ldm, 'r_vc_change ~ prf_x + (1+prf_x|sub)')"
   ]
  },
  {
   "cell_type": "code",
   "execution_count": 34,
   "metadata": {},
   "outputs": [
    {
     "data": {
      "text/html": [
       "<table><tr><th>df</th><th>effect</th><th>est</th><th>p</th><th>se</th><th>t</th></tr><tr><td>1.69702606866653</td><td>(Intercept)</td><td>0.0599979038497463</td><td>0.0638959424604999</td><td>0.0136215157405405</td><td>4.40464225806972</td></tr><tr><td>12.072535814305</td><td>ecc</td><td>0.000665901726587086</td><td>3.40487975178609e-05</td><td>0.000104361267661844</td><td>6.38073627799131</td></tr></table>"
      ],
      "text/plain": [
       "DataMatrix[417, 0x7f0d37350c50]\n",
       "+---+------------------+-------------+----------------------+----------------------+----------------------+------------------+\n",
       "| # |        df        |    effect   |         est          |          p           |          se          |        t         |\n",
       "+---+------------------+-------------+----------------------+----------------------+----------------------+------------------+\n",
       "| 0 | 1.69702606866653 | (Intercept) |  0.0599979038497463  |  0.0638959424604999  |  0.0136215157405405  | 4.40464225806972 |\n",
       "| 1 | 12.072535814305  |     ecc     | 0.000665901726587086 | 3.40487975178609e-05 | 0.000104361267661844 | 6.38073627799131 |\n",
       "+---+------------------+-------------+----------------------+----------------------+----------------------+------------------+"
      ]
     },
     "execution_count": 34,
     "metadata": {},
     "output_type": "execute_result"
    }
   ],
   "source": [
    "lme4.lmer(ldm, 'r_vc_change ~ ecc + (1+ecc|sub)')"
   ]
  },
  {
   "cell_type": "code",
   "execution_count": 35,
   "metadata": {},
   "outputs": [
    {
     "data": {
      "text/html": [
       "<table><tr><th>df</th><th>effect</th><th>est</th><th>p</th><th>se</th><th>t</th></tr><tr><td>14.1123965536674</td><td>(Intercept)</td><td>0.0659631489870975</td><td>0.000293088044073912</td><td>0.0138315949610294</td><td>4.7690197097984</td></tr><tr><td>14.0002746373336</td><td>prf_sd</td><td>0.000607069098740934</td><td>0.0892427915162342</td><td>0.000332450728564187</td><td>1.82604231719627</td></tr></table>"
      ],
      "text/plain": [
       "DataMatrix[432, 0x7f0d37331ac8]\n",
       "+---+------------------+-------------+----------------------+----------------------+----------------------+------------------+\n",
       "| # |        df        |    effect   |         est          |          p           |          se          |        t         |\n",
       "+---+------------------+-------------+----------------------+----------------------+----------------------+------------------+\n",
       "| 0 | 14.1123965536674 | (Intercept) |  0.0659631489870975  | 0.000293088044073912 |  0.0138315949610294  | 4.7690197097984  |\n",
       "| 1 | 14.0002746373336 |    prf_sd   | 0.000607069098740934 |  0.0892427915162342  | 0.000332450728564187 | 1.82604231719627 |\n",
       "+---+------------------+-------------+----------------------+----------------------+----------------------+------------------+"
      ]
     },
     "execution_count": 35,
     "metadata": {},
     "output_type": "execute_result"
    }
   ],
   "source": [
    "lme4.lmer(ldm, 'r_vc_change ~ prf_sd + (1+prf_sd|sub)')"
   ]
  }
 ],
 "metadata": {
  "kernelspec": {
   "display_name": "Python 3",
   "language": "python",
   "name": "python3"
  },
  "language_info": {
   "codemirror_mode": {
    "name": "ipython",
    "version": 3
   },
   "file_extension": ".py",
   "mimetype": "text/x-python",
   "name": "python",
   "nbconvert_exporter": "python",
   "pygments_lexer": "ipython3",
   "version": "3.7.1"
  }
 },
 "nbformat": 4,
 "nbformat_minor": 2
}
