{
 "cells": [
  {
   "cell_type": "markdown",
   "metadata": {},
   "source": [
    "# The relationship between pupil size and activity in visual cortex"
   ]
  },
  {
   "cell_type": "markdown",
   "metadata": {},
   "source": [
    "## Imports and constants"
   ]
  },
  {
   "cell_type": "code",
   "execution_count": 1,
   "metadata": {},
   "outputs": [],
   "source": [
    "from datamatrix import io, plot\n",
    "import numpy as np\n",
    "from matplotlib import pyplot as plt\n",
    "import seaborn as sns\n",
    "from datamatrix import operations as ops, DataMatrix, FloatColumn"
   ]
  },
  {
   "cell_type": "code",
   "execution_count": 2,
   "metadata": {},
   "outputs": [],
   "source": [
    "MAX_ERR = np.inf\n",
    "MIN_X = 2\n",
    "MAX_X = 158\n",
    "MIN_Y = 2\n",
    "MAX_Y = 126\n",
    "MIN_SD = 1\n",
    "MAX_SD = 62\n",
    "XC = 80\n",
    "YC = 64\n",
    "OUTLIERS = {5}\n",
    "SRC_NIFTI = '../outputs/correlation-matrix.pkl'\n",
    "SRC_LONGISH = '../outputs/longish-correlation-matrix.csv'\n",
    "VISUAL_CORTEX = {'V1', 'V2', 'V3', 'V4'}\n",
    "LGN = 'LGN'\n",
    "COLORS = {\n",
    "    'V1': '#4DB6AC',\n",
    "    'V2': '#009688',\n",
    "    'V3': '#00796B',\n",
    "    'V4': '#004D40',\n",
    "}"
   ]
  },
  {
   "cell_type": "markdown",
   "metadata": {},
   "source": [
    "## Read data\n",
    "\n",
    "The data is read in two formats:\n",
    "\n",
    "- A DataMatrix `dm` with one row for each roi/ subject, and the imaging data as NiftiColumns\n",
    "- A \"longish\" DataMatrix `ldm` with one row for each voxel\n",
    "\n",
    "The data is filtered based on the PRF properties to avoid poorly fitted PRFs from being included in the analysis."
   ]
  },
  {
   "cell_type": "code",
   "execution_count": 3,
   "metadata": {},
   "outputs": [
    {
     "name": "stderr",
     "output_type": "stream",
     "text": [
      "/home/sebastiaan/anaconda3/lib/python3.7/site-packages/ipykernel_launcher.py:22: RuntimeWarning: invalid value encountered in greater\n",
      "/home/sebastiaan/anaconda3/lib/python3.7/site-packages/ipykernel_launcher.py:22: RuntimeWarning: invalid value encountered in less\n",
      "/home/sebastiaan/anaconda3/lib/python3.7/site-packages/ipykernel_launcher.py:22: RuntimeWarning: invalid value encountered in greater_equal\n"
     ]
    },
    {
     "name": "stdout",
     "output_type": "stream",
     "text": [
      "Number of LGN voxels included in analysis: 360\n",
      "Total number VC of voxels: 55080\n",
      "Number of VC voxels included in analysis: 28079\n"
     ]
    }
   ],
   "source": [
    "def mask(nft, mask):\n",
    "    \n",
    "    \"\"\"Set voxels that match the mask to nan\"\"\"\n",
    "    \n",
    "    nft.get_data()[mask] = np.nan\n",
    "\n",
    "\n",
    "dm = io.readpickle(SRC_NIFTI)\n",
    "dm = dm.roi == VISUAL_CORTEX\n",
    "dm = dm.sub != OUTLIERS\n",
    "for row in dm:\n",
    "    if row.roi == 'LGN':\n",
    "        continue\n",
    "    a = row.prf_err.get_data()\n",
    "    x = row.prf_x.get_data()\n",
    "    y = row.prf_y.get_data()\n",
    "    sd = row.prf_sd.get_data()\n",
    "    err = np.where(\n",
    "        (a > MAX_ERR) |\n",
    "        (x < MIN_X) | (x >= MAX_X) |\n",
    "        (y < MIN_Y) | (y >= MAX_Y) |\n",
    "        (sd < MIN_SD) | (sd >= MAX_SD)\n",
    "    )\n",
    "    n_poor = len(err[0])\n",
    "    n_total = np.sum(~np.isnan(a))\n",
    "    mask(row.prf_x, err)\n",
    "    mask(row.prf_y, err)\n",
    "    mask(row.prf_sd, err)\n",
    "    mask(row.prf_err, err)\n",
    "    mask(row.r_vc_pupil, err)\n",
    "    mask(row.r_vc_lum, err)\n",
    "dm.r_pupil = [np.nanmedian(row.r_vc_pupil.get_data()) for row in dm]\n",
    "dm.r_lum = [np.nanmedian(row.r_vc_lum.get_data()) for row in dm]\n",
    "dm.m_prf_err = [np.nanmedian(row.prf_err.get_data()) for row in dm]\n",
    "dm.m_prf_sd = [np.nanmedian(row.prf_sd.get_data()) for row in dm]\n",
    "dm.m_prf_absx = [np.nanmedian(np.abs(row.prf_x.get_data() - XC)) for row in dm]\n",
    "dm.m_prf_absy = [np.nanmedian(np.abs(row.prf_y.get_data() - YC)) for row in dm]\n",
    "dm.m_prf_ecc = [\n",
    "    np.nanmedian(\n",
    "        (\n",
    "            (row.prf_y.get_data() - XC) ** 2 +\n",
    "            (row.prf_y.get_data() - YC) ** 2\n",
    "        ) ** .5\n",
    "    )\n",
    "    for row in dm\n",
    "]\n",
    "# And now the longish matrix\n",
    "ldm = io.readtxt(SRC_LONGISH)\n",
    "ldm_lgn = ldm.roi == LGN\n",
    "print('Number of LGN voxels included in analysis: {}'.format(len(ldm_lgn)))\n",
    "print('Total number VC of voxels: {}'.format(len(ldm)))\n",
    "ldm = ldm.roi == VISUAL_CORTEX\n",
    "ldm = ldm.prf_err <= MAX_ERR\n",
    "ldm = ldm.prf_x > MIN_X\n",
    "ldm = ldm.prf_x <= MAX_X\n",
    "ldm = ldm.prf_y > MIN_Y\n",
    "ldm = ldm.prf_y <= MAX_Y\n",
    "ldm = ldm.prf_sd > MIN_SD\n",
    "ldm = ldm.prf_sd <= MAX_SD\n",
    "ldm = ldm.sub != OUTLIERS\n",
    "print('Number of VC voxels included in analysis: {}'.format(len(ldm)))"
   ]
  },
  {
   "cell_type": "markdown",
   "metadata": {},
   "source": [
    "# Plot: Correlations between pupil size, luminance, and visual-cortex activity"
   ]
  },
  {
   "cell_type": "code",
   "execution_count": 4,
   "metadata": {},
   "outputs": [],
   "source": [
    "def roi_hist(ldm, col):\n",
    "    \n",
    "    plt.xlim(-.25, .25)\n",
    "    plt.axvline(0, color='black', linestyle='-')\n",
    "    for roi, rdm in ops.split(ldm.roi):\n",
    "        sns.distplot(\n",
    "            rdm[col],\n",
    "            label='{} (N={})'.format(roi, len(rdm[col])),\n",
    "            hist=True,\n",
    "            kde=False,\n",
    "            bins=20,\n",
    "            hist_kws={\n",
    "                \"alpha\": .8,\n",
    "                \"color\": COLORS[roi]\n",
    "            }\n",
    "        )\n",
    "        plt.axvline(rdm[col].mean, color=COLORS[roi], linestyle=':')\n",
    "    plt.ylabel('Voxel count')\n",
    "    plt.xlabel('Correlation (r)')\n",
    "    plt.legend()    "
   ]
  },
  {
   "cell_type": "code",
   "execution_count": 5,
   "metadata": {},
   "outputs": [
    {
     "data": {
      "image/png": "[encoded data removed]",
      "text/plain": [
       "<Figure size 1080x288 with 3 Axes>"
      ]
     },
     "metadata": {
      "needs_background": "light"
     },
     "output_type": "display_data"
    }
   ],
   "source": [
    "plt.figure(figsize=(15, 4))\n",
    "plt.subplots_adjust(wspace=.3)\n",
    "# Correlated pupil size and visual cortex\n",
    "plt.subplot(1,3,1)\n",
    "plt.title('a) r(VC ~ pupil size)')\n",
    "roi_hist(ldm, 'r_vc_pupil')\n",
    "# Correlated luminance and visual cortex\n",
    "plt.subplot(1,3,2)\n",
    "plt.title('b) r(VC ~ luminance)')\n",
    "roi_hist(ldm, 'r_vc_lum')\n",
    "plt.subplot(1,3,3)\n",
    "# Correlated pupil size and luminance\n",
    "plt.ylabel('Correlation (r)')\n",
    "plt.title('c) r(pupil size ~ luminance)')\n",
    "plt.axhline(0, color='black', linestyle=':')\n",
    "r = sorted([sdm.r_lum_pupil.mean for sub, sdm in ops.split(dm.sub)])\n",
    "plt.plot(r ,'o', color='#607D8B')\n",
    "plt.xlabel('Participant')\n",
    "plt.xticks([])\n",
    "plt.ylim(-.55, .05)\n",
    "plot.save('correlation-plot-dist', show=True)"
   ]
  },
  {
   "cell_type": "markdown",
   "metadata": {},
   "source": [
    "# Plot: PRF properties"
   ]
  },
  {
   "cell_type": "code",
   "execution_count": 6,
   "metadata": {},
   "outputs": [
    {
     "data": {
      "image/png": "[encoded data removed]",
      "text/plain": [
       "<Figure size 720x288 with 2 Axes>"
      ]
     },
     "metadata": {
      "needs_background": "light"
     },
     "output_type": "display_data"
    }
   ],
   "source": [
    "plt.figure(figsize=(10, 4))\n",
    "plt.subplots_adjust(wspace=.3)\n",
    "plt.subplot(1, 2, 1)\n",
    "plt.title('a) PRF size')\n",
    "roi_hist(ldm, 'prf_sd')\n",
    "plt.xlabel('Size')\n",
    "plt.xlim(0, 64)\n",
    "plt.subplot(1, 2, 2)\n",
    "plt.title('b) PRF eccentricity')\n",
    "roi_hist(ldm, 'ecc')\n",
    "plt.xlabel('Eccentricity')\n",
    "plt.xlim(0, 100)\n",
    "plot.save('prf-properties', show=True)"
   ]
  },
  {
   "cell_type": "markdown",
   "metadata": {},
   "source": [
    "# Heatmaps\n",
    "\n",
    "Various heatmaps to inspect how properties are distributed across the visual field, across all ROIs and for each ROI separately."
   ]
  },
  {
   "cell_type": "markdown",
   "metadata": {},
   "source": [
    "First some helper functions."
   ]
  },
  {
   "cell_type": "code",
   "execution_count": 7,
   "metadata": {},
   "outputs": [],
   "source": [
    "def density_map(ldm, downsample=8):\n",
    "\n",
    "    a = np.zeros((2 * YC // downsample, 2 * XC // downsample))\n",
    "    for i, row in enumerate(ldm):\n",
    "        x = row.prf_x // downsample\n",
    "        y = row.prf_y // downsample\n",
    "        r = row.r_vc_pupil\n",
    "        a[y, x] += 1\n",
    "    plt.axis('off')\n",
    "    sns.heatmap(a, cbar=False)\n",
    "    \n",
    "    \n",
    "def size_map(ldm, downsample=16):\n",
    "\n",
    "    a = np.empty((len(ldm), 2 * YC // downsample, 2 * XC // downsample))\n",
    "    a[:] = np.nan\n",
    "    for i, row in enumerate(ldm):\n",
    "        x = row.prf_x // downsample\n",
    "        y = row.prf_y // downsample\n",
    "        r = row.prf_sd\n",
    "        a[i, y, x] = r\n",
    "    heatmap = np.nanmean(a, axis=0)\n",
    "    plt.axis('off')\n",
    "    sns.heatmap(heatmap, cbar=False)\n",
    "        \n",
    "    \n",
    "def correlation_map(ldm, downsample=16):\n",
    "\n",
    "    a = np.empty((len(ldm), 2 * YC // downsample, 2 * XC // downsample))\n",
    "    a[:] = np.nan\n",
    "    for i, row in enumerate(ldm):\n",
    "        x = row.prf_x // downsample\n",
    "        y = row.prf_y // downsample\n",
    "        r = row.r_vc_pupil\n",
    "        a[i, y, x] = r\n",
    "    heatmap = np.nanmean(a, axis=0)\n",
    "    plt.axis('off')\n",
    "    sns.heatmap(heatmap, cbar=False, center=0)\n",
    "    \n",
    "    \n",
    "def roi_plot(ldm, fnc):\n",
    "        \n",
    "    plt.figure(figsize=(15, 3))\n",
    "    plt.subplots_adjust(wspace=.1, hspace=.1)\n",
    "    plt.subplot(1, 5, 1)\n",
    "    plt.title('All (V1 - V4)')\n",
    "    fnc(ldm)\n",
    "    plt.subplot(1, 5, 2)\n",
    "    plt.title('V1')\n",
    "    fnc(ldm.roi == 'V1')\n",
    "    plt.subplot(1, 5, 3)    \n",
    "    plt.title('V2')\n",
    "    fnc(ldm.roi == 'V2')\n",
    "    plt.subplot(1, 5, 4)    \n",
    "    plt.title('V3')\n",
    "    fnc(ldm.roi == 'V3')\n",
    "    plt.subplot(1, 5, 5)\n",
    "    plt.title('V4')\n",
    "    fnc(ldm.roi == 'V4')\n"
   ]
  },
  {
   "cell_type": "markdown",
   "metadata": {},
   "source": [
    "The density of PRFs."
   ]
  },
  {
   "cell_type": "code",
   "execution_count": 8,
   "metadata": {},
   "outputs": [
    {
     "data": {
      "image/png": "[encoded data removed]",
      "text/plain": [
       "<Figure size 1080x216 with 5 Axes>"
      ]
     },
     "metadata": {
      "needs_background": "light"
     },
     "output_type": "display_data"
    }
   ],
   "source": [
    "roi_plot(ldm, density_map)\n",
    "plot.save('map-density', show=True)"
   ]
  },
  {
   "cell_type": "code",
   "execution_count": 9,
   "metadata": {},
   "outputs": [
    {
     "name": "stderr",
     "output_type": "stream",
     "text": [
      "/home/sebastiaan/anaconda3/lib/python3.7/site-packages/ipykernel_launcher.py:36: RuntimeWarning: Mean of empty slice\n"
     ]
    },
    {
     "data": {
      "image/png": "[encoded data removed]",
      "text/plain": [
       "<Figure size 1080x216 with 5 Axes>"
      ]
     },
     "metadata": {
      "needs_background": "light"
     },
     "output_type": "display_data"
    }
   ],
   "source": [
    "roi_plot(ldm, correlation_map)\n",
    "plot.save('map-correlation', show=True)"
   ]
  },
  {
   "cell_type": "code",
   "execution_count": 10,
   "metadata": {},
   "outputs": [
    {
     "name": "stderr",
     "output_type": "stream",
     "text": [
      "/home/sebastiaan/anaconda3/lib/python3.7/site-packages/ipykernel_launcher.py:22: RuntimeWarning: Mean of empty slice\n"
     ]
    },
    {
     "data": {
      "image/png": "[encoded data removed]",
      "text/plain": [
       "<Figure size 1080x216 with 5 Axes>"
      ]
     },
     "metadata": {
      "needs_background": "light"
     },
     "output_type": "display_data"
    }
   ],
   "source": [
    "roi_plot(ldm, size_map)\n",
    "plot.save('map-prf-size', show=True)"
   ]
  },
  {
   "cell_type": "markdown",
   "metadata": {},
   "source": [
    "# Statistics"
   ]
  },
  {
   "cell_type": "code",
   "execution_count": 11,
   "metadata": {},
   "outputs": [],
   "source": [
    "from datamatrix.rbridge import lme4\n",
    "lme4.verbose = True"
   ]
  },
  {
   "cell_type": "markdown",
   "metadata": {},
   "source": [
    "## Relationship between PRF properties and the VC-pupil correlation."
   ]
  },
  {
   "cell_type": "code",
   "execution_count": 12,
   "metadata": {},
   "outputs": [
    {
     "data": {
      "text/html": [
       "<table><tr><th>df</th><th>effect</th><th>est</th><th>p</th><th>se</th><th>t</th></tr><tr><td>13.0010038214515</td><td>(Intercept)</td><td>-0.0354230713692835</td><td>0.00219379226206244</td><td>0.00931408755297139</td><td>-3.80317139685709</td></tr></table>"
      ],
      "text/plain": [
       "DataMatrix[81, 0x7f1888e8aba8]\n",
       "+---+------------------+-------------+---------------------+---------------------+---------------------+-------------------+\n",
       "| # |        df        |    effect   |         est         |          p          |          se         |         t         |\n",
       "+---+------------------+-------------+---------------------+---------------------+---------------------+-------------------+\n",
       "| 0 | 13.0010038214515 | (Intercept) | -0.0354230713692835 | 0.00219379226206244 | 0.00931408755297139 | -3.80317139685709 |\n",
       "+---+------------------+-------------+---------------------+---------------------+---------------------+-------------------+"
      ]
     },
     "execution_count": 12,
     "metadata": {},
     "output_type": "execute_result"
    }
   ],
   "source": [
    "lme4.lmer(ldm, 'r_vc_pupil ~ (1|sub)')"
   ]
  },
  {
   "cell_type": "code",
   "execution_count": 13,
   "metadata": {},
   "outputs": [
    {
     "data": {
      "text/html": [
       "<table><tr><th>df</th><th>effect</th><th>est</th><th>p</th><th>se</th><th>t</th></tr><tr><td>12.9974068448793</td><td>(Intercept)</td><td>-0.0357388146405776</td><td>0.000721462330431941</td><td>0.00812729165522449</td><td>-4.39738305904201</td></tr><tr><td>12.9642427495275</td><td>r_vc_lum</td><td>-0.383269602161739</td><td>0.00279482962793781</td><td>0.104197194212611</td><td>-3.6783101988302</td></tr></table>"
      ],
      "text/plain": [
       "DataMatrix[96, 0x7f1888e83780]\n",
       "+---+------------------+-------------+---------------------+----------------------+---------------------+-------------------+\n",
       "| # |        df        |    effect   |         est         |          p           |          se         |         t         |\n",
       "+---+------------------+-------------+---------------------+----------------------+---------------------+-------------------+\n",
       "| 0 | 12.9974068448793 | (Intercept) | -0.0357388146405776 | 0.000721462330431941 | 0.00812729165522449 | -4.39738305904201 |\n",
       "| 1 | 12.9642427495275 |   r_vc_lum  |  -0.383269602161739 | 0.00279482962793781  |  0.104197194212611  |  -3.6783101988302 |\n",
       "+---+------------------+-------------+---------------------+----------------------+---------------------+-------------------+"
      ]
     },
     "execution_count": 13,
     "metadata": {},
     "output_type": "execute_result"
    }
   ],
   "source": [
    "lme4.lmer(ldm, 'r_vc_pupil ~ r_vc_lum + (1+r_vc_lum|sub)')"
   ]
  },
  {
   "cell_type": "code",
   "execution_count": 14,
   "metadata": {},
   "outputs": [
    {
     "data": {
      "text/html": [
       "<table><tr><th>df</th><th>effect</th><th>est</th><th>p</th><th>se</th><th>t</th></tr><tr><td>13.0033591011902</td><td>(Intercept)</td><td>-0.0339951026214396</td><td>0.00597042441245092</td><td>0.0103640978675754</td><td>-3.28008313466385</td></tr><tr><td>13.0513288148687</td><td>c_roi</td><td>-0.00222282916309324</td><td>0.412153314903289</td><td>0.00262375377753439</td><td>-0.847194268809054</td></tr></table>"
      ],
      "text/plain": [
       "DataMatrix[111, 0x7f1888e802e8]\n",
       "+---+------------------+-------------+----------------------+---------------------+---------------------+--------------------+\n",
       "| # |        df        |    effect   |         est          |          p          |          se         |         t          |\n",
       "+---+------------------+-------------+----------------------+---------------------+---------------------+--------------------+\n",
       "| 0 | 13.0033591011902 | (Intercept) | -0.0339951026214396  | 0.00597042441245092 |  0.0103640978675754 | -3.28008313466385  |\n",
       "| 1 | 13.0513288148687 |    c_roi    | -0.00222282916309324 |  0.412153314903289  | 0.00262375377753439 | -0.847194268809054 |\n",
       "+---+------------------+-------------+----------------------+---------------------+---------------------+--------------------+"
      ]
     },
     "execution_count": 14,
     "metadata": {},
     "output_type": "execute_result"
    }
   ],
   "source": [
    "ldm.c_roi = ldm.roi @ (lambda roi: 0 if roi == 'V1' else 1 if roi == 'V2' else 2 if roi == 'V3' else 3)\n",
    "lme4.lmer(ldm, 'r_vc_pupil ~ c_roi + (1+c_roi|sub)')"
   ]
  },
  {
   "cell_type": "code",
   "execution_count": 15,
   "metadata": {},
   "outputs": [
    {
     "data": {
      "text/html": [
       "<table><tr><th>df</th><th>effect</th><th>est</th><th>p</th><th>se</th><th>t</th></tr><tr><td>44.0491519171931</td><td>(Intercept)</td><td>-0.0472859706287033</td><td>4.6299362950046e-08</td><td>0.00718096944298195</td><td>-6.58490068843232</td></tr><tr><td>16.9952641154411</td><td>prf_y</td><td>0.000174225699045561</td><td>0.00413827424962577</td><td>5.2631323296009e-05</td><td>3.31030436125806</td></tr></table>"
      ],
      "text/plain": [
       "DataMatrix[126, 0x7f1888e802b0]\n",
       "+---+------------------+-------------+----------------------+---------------------+---------------------+-------------------+\n",
       "| # |        df        |    effect   |         est          |          p          |          se         |         t         |\n",
       "+---+------------------+-------------+----------------------+---------------------+---------------------+-------------------+\n",
       "| 0 | 44.0491519171931 | (Intercept) | -0.0472859706287033  | 4.6299362950046e-08 | 0.00718096944298195 | -6.58490068843232 |\n",
       "| 1 | 16.9952641154411 |    prf_y    | 0.000174225699045561 | 0.00413827424962577 | 5.2631323296009e-05 |  3.31030436125806 |\n",
       "+---+------------------+-------------+----------------------+---------------------+---------------------+-------------------+"
      ]
     },
     "execution_count": 15,
     "metadata": {},
     "output_type": "execute_result"
    }
   ],
   "source": [
    "lme4.lmer(ldm, 'r_vc_pupil ~ prf_y + (1+prf_y|sub)')"
   ]
  },
  {
   "cell_type": "code",
   "execution_count": 16,
   "metadata": {},
   "outputs": [
    {
     "data": {
      "text/html": [
       "<table><tr><th>df</th><th>effect</th><th>est</th><th>p</th><th>se</th><th>t</th></tr><tr><td>58.2125134536062</td><td>(Intercept)</td><td>-0.0289045131205545</td><td>2.5848494127679e-05</td><td>0.00632422195304519</td><td>-4.57044571413826</td></tr><tr><td>21.0163192913464</td><td>prf_x</td><td>-8.92651757231932e-05</td><td>0.0146337295099273</td><td>3.35541518842098e-05</td><td>-2.66033175361528</td></tr></table>"
      ],
      "text/plain": [
       "DataMatrix[141, 0x7f1888ef5940]\n",
       "+---+------------------+-------------+-----------------------+---------------------+----------------------+-------------------+\n",
       "| # |        df        |    effect   |          est          |          p          |          se          |         t         |\n",
       "+---+------------------+-------------+-----------------------+---------------------+----------------------+-------------------+\n",
       "| 0 | 58.2125134536062 | (Intercept) |  -0.0289045131205545  | 2.5848494127679e-05 | 0.00632422195304519  | -4.57044571413826 |\n",
       "| 1 | 21.0163192913464 |    prf_x    | -8.92651757231932e-05 |  0.0146337295099273 | 3.35541518842098e-05 | -2.66033175361528 |\n",
       "+---+------------------+-------------+-----------------------+---------------------+----------------------+-------------------+"
      ]
     },
     "execution_count": 16,
     "metadata": {},
     "output_type": "execute_result"
    }
   ],
   "source": [
    "lme4.lmer(ldm, 'r_vc_pupil ~ prf_x + (1+prf_x|sub)')"
   ]
  },
  {
   "cell_type": "code",
   "execution_count": 17,
   "metadata": {},
   "outputs": [
    {
     "data": {
      "text/html": [
       "<table><tr><th>df</th><th>effect</th><th>est</th><th>p</th><th>se</th><th>t</th></tr><tr><td>42.3954968660233</td><td>(Intercept)</td><td>-0.0358436756553087</td><td>1.08961497859524e-06</td><td>0.00630348906590593</td><td>-5.68632312685027</td></tr><tr><td>13.7424472080773</td><td>ecc</td><td>3.51073806388178e-05</td><td>0.606709816818503</td><td>6.66385888556898e-05</td><td>0.526832594172201</td></tr></table>"
      ],
      "text/plain": [
       "DataMatrix[156, 0x7f1888ef3e10]\n",
       "+---+------------------+-------------+----------------------+----------------------+----------------------+-------------------+\n",
       "| # |        df        |    effect   |         est          |          p           |          se          |         t         |\n",
       "+---+------------------+-------------+----------------------+----------------------+----------------------+-------------------+\n",
       "| 0 | 42.3954968660233 | (Intercept) | -0.0358436756553087  | 1.08961497859524e-06 | 0.00630348906590593  | -5.68632312685027 |\n",
       "| 1 | 13.7424472080773 |     ecc     | 3.51073806388178e-05 |  0.606709816818503   | 6.66385888556898e-05 | 0.526832594172201 |\n",
       "+---+------------------+-------------+----------------------+----------------------+----------------------+-------------------+"
      ]
     },
     "execution_count": 17,
     "metadata": {},
     "output_type": "execute_result"
    }
   ],
   "source": [
    "lme4.lmer(ldm, 'r_vc_pupil ~ ecc + (1+ecc|sub)')"
   ]
  },
  {
   "cell_type": "code",
   "execution_count": 18,
   "metadata": {},
   "outputs": [
    {
     "data": {
      "text/html": [
       "<table><tr><th>df</th><th>effect</th><th>est</th><th>p</th><th>se</th><th>t</th></tr><tr><td>29.2747026324472</td><td>(Intercept)</td><td>-0.0331744347754354</td><td>0.000874076915094837</td><td>0.00895163661269119</td><td>-3.7059630781261</td></tr><tr><td>19.0024123217112</td><td>prf_sd</td><td>-0.000118015314109236</td><td>0.487708797524834</td><td>0.000166753984263405</td><td>-0.707721105618797</td></tr></table>"
      ],
      "text/plain": [
       "DataMatrix[171, 0x7f1888e80ba8]\n",
       "+---+------------------+-------------+-----------------------+----------------------+----------------------+--------------------+\n",
       "| # |        df        |    effect   |          est          |          p           |          se          |         t          |\n",
       "+---+------------------+-------------+-----------------------+----------------------+----------------------+--------------------+\n",
       "| 0 | 29.2747026324472 | (Intercept) |  -0.0331744347754354  | 0.000874076915094837 | 0.00895163661269119  |  -3.7059630781261  |\n",
       "| 1 | 19.0024123217112 |    prf_sd   | -0.000118015314109236 |  0.487708797524834   | 0.000166753984263405 | -0.707721105618797 |\n",
       "+---+------------------+-------------+-----------------------+----------------------+----------------------+--------------------+"
      ]
     },
     "execution_count": 18,
     "metadata": {},
     "output_type": "execute_result"
    }
   ],
   "source": [
    "lme4.lmer(ldm, 'r_vc_pupil ~ prf_sd + (1+prf_sd|sub)')"
   ]
  },
  {
   "cell_type": "markdown",
   "metadata": {},
   "source": [
    "## Basic PRF properties as a function of ROI"
   ]
  },
  {
   "cell_type": "code",
   "execution_count": 19,
   "metadata": {},
   "outputs": [
    {
     "data": {
      "text/html": [
       "<table><tr><th>df</th><th>effect</th><th>est</th><th>p</th><th>se</th><th>t</th></tr><tr><td>13.0261923685879</td><td>(Intercept)</td><td>23.4166717452972</td><td>3.03618404042377e-07</td><td>2.45378080486183</td><td>9.54309842953385</td></tr><tr><td>12.9743842366679</td><td>c_roi</td><td>4.92952380667142</td><td>0.00274320509308439</td><td>1.33683756473457</td><td>3.68745159225848</td></tr></table>"
      ],
      "text/plain": [
       "DataMatrix[186, 0x7f1888e7ca58]\n",
       "+---+------------------+-------------+------------------+----------------------+------------------+------------------+\n",
       "| # |        df        |    effect   |       est        |          p           |        se        |        t         |\n",
       "+---+------------------+-------------+------------------+----------------------+------------------+------------------+\n",
       "| 0 | 13.0261923685879 | (Intercept) | 23.4166717452972 | 3.03618404042377e-07 | 2.45378080486183 | 9.54309842953385 |\n",
       "| 1 | 12.9743842366679 |    c_roi    | 4.92952380667142 | 0.00274320509308439  | 1.33683756473457 | 3.68745159225848 |\n",
       "+---+------------------+-------------+------------------+----------------------+------------------+------------------+"
      ]
     },
     "execution_count": 19,
     "metadata": {},
     "output_type": "execute_result"
    }
   ],
   "source": [
    "lme4.lmer(ldm, 'ecc ~ c_roi + (1+c_roi|sub)')"
   ]
  },
  {
   "cell_type": "code",
   "execution_count": 20,
   "metadata": {},
   "outputs": [
    {
     "data": {
      "text/html": [
       "<table><tr><th>df</th><th>effect</th><th>est</th><th>p</th><th>se</th><th>t</th></tr><tr><td>13.0043522134383</td><td>(Intercept)</td><td>23.0998957368709</td><td>2.15949315308842e-08</td><td>1.93084091849142</td><td>11.9636452261013</td></tr><tr><td>13.0109838579344</td><td>c_roi</td><td>2.29181194631132</td><td>0.00056867516523969</td><td>0.506398286647552</td><td>4.52571030894185</td></tr></table>"
      ],
      "text/plain": [
       "DataMatrix[201, 0x7f1888ef3f28]\n",
       "+---+------------------+-------------+------------------+----------------------+-------------------+------------------+\n",
       "| # |        df        |    effect   |       est        |          p           |         se        |        t         |\n",
       "+---+------------------+-------------+------------------+----------------------+-------------------+------------------+\n",
       "| 0 | 13.0043522134383 | (Intercept) | 23.0998957368709 | 2.15949315308842e-08 |  1.93084091849142 | 11.9636452261013 |\n",
       "| 1 | 13.0109838579344 |    c_roi    | 2.29181194631132 | 0.00056867516523969  | 0.506398286647552 | 4.52571030894185 |\n",
       "+---+------------------+-------------+------------------+----------------------+-------------------+------------------+"
      ]
     },
     "execution_count": 20,
     "metadata": {},
     "output_type": "execute_result"
    }
   ],
   "source": [
    "lme4.lmer(ldm, 'prf_sd ~ c_roi + (1+c_roi|sub)')"
   ]
  },
  {
   "cell_type": "code",
   "execution_count": 21,
   "metadata": {},
   "outputs": [
    {
     "data": {
      "text/html": [
       "<table><tr><th>df</th><th>effect</th><th>est</th><th>p</th><th>se</th><th>t</th></tr><tr><td>27.0896299187019</td><td>(Intercept)</td><td>18.5773707764144</td><td>1.7762154235254e-12</td><td>1.5288302359266</td><td>12.1513627477121</td></tr><tr><td>15.6951751455145</td><td>ecc</td><td>0.229894332017922</td><td>3.90260324985103e-12</td><td>0.0123188519358011</td><td>18.6619932779452</td></tr></table>"
      ],
      "text/plain": [
       "DataMatrix[216, 0x7f1888eee400]\n",
       "+---+------------------+-------------+-------------------+----------------------+--------------------+------------------+\n",
       "| # |        df        |    effect   |        est        |          p           |         se         |        t         |\n",
       "+---+------------------+-------------+-------------------+----------------------+--------------------+------------------+\n",
       "| 0 | 27.0896299187019 | (Intercept) |  18.5773707764144 | 1.7762154235254e-12  |  1.5288302359266   | 12.1513627477121 |\n",
       "| 1 | 15.6951751455145 |     ecc     | 0.229894332017922 | 3.90260324985103e-12 | 0.0123188519358011 | 18.6619932779452 |\n",
       "+---+------------------+-------------+-------------------+----------------------+--------------------+------------------+"
      ]
     },
     "execution_count": 21,
     "metadata": {},
     "output_type": "execute_result"
    }
   ],
   "source": [
    "lme4.lmer(ldm, 'prf_sd ~ ecc + (1+ecc|sub)')"
   ]
  },
  {
   "cell_type": "markdown",
   "metadata": {},
   "source": [
    "## Relationship between luminance and VC activity"
   ]
  },
  {
   "cell_type": "code",
   "execution_count": 22,
   "metadata": {},
   "outputs": [
    {
     "data": {
      "text/html": [
       "<table><tr><th>df</th><th>effect</th><th>est</th><th>p</th><th>se</th><th>t</th></tr><tr><td>13.0000262303343</td><td>(Intercept)</td><td>0.000310506877300559</td><td>0.949228106617269</td><td>0.0047831713741367</td><td>0.0649165277622112</td></tr></table>"
      ],
      "text/plain": [
       "DataMatrix[231, 0x7f1888f02da0]\n",
       "+---+------------------+-------------+----------------------+-------------------+--------------------+--------------------+\n",
       "| # |        df        |    effect   |         est          |         p         |         se         |         t          |\n",
       "+---+------------------+-------------+----------------------+-------------------+--------------------+--------------------+\n",
       "| 0 | 13.0000262303343 | (Intercept) | 0.000310506877300559 | 0.949228106617269 | 0.0047831713741367 | 0.0649165277622112 |\n",
       "+---+------------------+-------------+----------------------+-------------------+--------------------+--------------------+"
      ]
     },
     "execution_count": 22,
     "metadata": {},
     "output_type": "execute_result"
    }
   ],
   "source": [
    "lme4.lmer(ldm, 'r_vc_lum ~ (1|sub)')"
   ]
  },
  {
   "cell_type": "code",
   "execution_count": 23,
   "metadata": {},
   "outputs": [
    {
     "data": {
      "text/html": [
       "<table><tr><th>df</th><th>effect</th><th>est</th><th>p</th><th>se</th><th>t</th></tr><tr><td>12.9988311381316</td><td>(Intercept)</td><td>0.00164092576500197</td><td>0.772547833435739</td><td>0.00555981195981826</td><td>0.295140514978066</td></tr><tr><td>13.0811528913048</td><td>c_roi</td><td>-0.00218048686917322</td><td>0.249332058572144</td><td>0.00180865155988027</td><td>-1.20558703375545</td></tr></table>"
      ],
      "text/plain": [
       "DataMatrix[246, 0x7f1888ef3198]\n",
       "+---+------------------+-------------+----------------------+-------------------+---------------------+-------------------+\n",
       "| # |        df        |    effect   |         est          |         p         |          se         |         t         |\n",
       "+---+------------------+-------------+----------------------+-------------------+---------------------+-------------------+\n",
       "| 0 | 12.9988311381316 | (Intercept) | 0.00164092576500197  | 0.772547833435739 | 0.00555981195981826 | 0.295140514978066 |\n",
       "| 1 | 13.0811528913048 |    c_roi    | -0.00218048686917322 | 0.249332058572144 | 0.00180865155988027 | -1.20558703375545 |\n",
       "+---+------------------+-------------+----------------------+-------------------+---------------------+-------------------+"
      ]
     },
     "execution_count": 23,
     "metadata": {},
     "output_type": "execute_result"
    }
   ],
   "source": [
    "lme4.lmer(ldm, 'r_vc_lum ~ c_roi + (1+c_roi|sub)')"
   ]
  },
  {
   "cell_type": "code",
   "execution_count": 24,
   "metadata": {},
   "outputs": [
    {
     "data": {
      "text/html": [
       "<table><tr><th>df</th><th>effect</th><th>est</th><th>p</th><th>se</th><th>t</th></tr><tr><td>20.7965918243339</td><td>(Intercept)</td><td>-0.0368421812054358</td><td>9.53555922878594e-05</td><td>0.007652511684315</td><td>-4.81439071578937</td></tr><tr><td>18.4275478229666</td><td>prf_y</td><td>0.000537049428687889</td><td>5.40389986521062e-06</td><td>8.51267872370447e-05</td><td>6.30881824768527</td></tr></table>"
      ],
      "text/plain": [
       "DataMatrix[261, 0x7f1888ef70b8]\n",
       "+---+------------------+-------------+----------------------+----------------------+----------------------+-------------------+\n",
       "| # |        df        |    effect   |         est          |          p           |          se          |         t         |\n",
       "+---+------------------+-------------+----------------------+----------------------+----------------------+-------------------+\n",
       "| 0 | 20.7965918243339 | (Intercept) | -0.0368421812054358  | 9.53555922878594e-05 |  0.007652511684315   | -4.81439071578937 |\n",
       "| 1 | 18.4275478229666 |    prf_y    | 0.000537049428687889 | 5.40389986521062e-06 | 8.51267872370447e-05 |  6.30881824768527 |\n",
       "+---+------------------+-------------+----------------------+----------------------+----------------------+-------------------+"
      ]
     },
     "execution_count": 24,
     "metadata": {},
     "output_type": "execute_result"
    }
   ],
   "source": [
    "lme4.lmer(ldm, 'r_vc_lum ~ prf_y + (1+prf_y|sub)')"
   ]
  },
  {
   "cell_type": "code",
   "execution_count": 25,
   "metadata": {},
   "outputs": [
    {
     "data": {
      "text/html": [
       "<table><tr><th>df</th><th>effect</th><th>est</th><th>p</th><th>se</th><th>t</th></tr><tr><td>23.6352529175472</td><td>(Intercept)</td><td>-0.0096476639099591</td><td>0.119904245055548</td><td>0.00597925160445071</td><td>-1.61352365616757</td></tr><tr><td>18.7328162360016</td><td>prf_x</td><td>0.000128508734617385</td><td>0.019376886757457</td><td>5.0242700271342e-05</td><td>2.55775931475333</td></tr></table>"
      ],
      "text/plain": [
       "DataMatrix[276, 0x7f1888ef5da0]\n",
       "+---+------------------+-------------+----------------------+-------------------+---------------------+-------------------+\n",
       "| # |        df        |    effect   |         est          |         p         |          se         |         t         |\n",
       "+---+------------------+-------------+----------------------+-------------------+---------------------+-------------------+\n",
       "| 0 | 23.6352529175472 | (Intercept) | -0.0096476639099591  | 0.119904245055548 | 0.00597925160445071 | -1.61352365616757 |\n",
       "| 1 | 18.7328162360016 |    prf_x    | 0.000128508734617385 | 0.019376886757457 | 5.0242700271342e-05 |  2.55775931475333 |\n",
       "+---+------------------+-------------+----------------------+-------------------+---------------------+-------------------+"
      ]
     },
     "execution_count": 25,
     "metadata": {},
     "output_type": "execute_result"
    }
   ],
   "source": [
    "lme4.lmer(ldm, 'r_vc_lum ~ prf_x + (1+prf_x|sub)')"
   ]
  },
  {
   "cell_type": "code",
   "execution_count": 26,
   "metadata": {},
   "outputs": [
    {
     "data": {
      "text/html": [
       "<table><tr><th>df</th><th>effect</th><th>est</th><th>p</th><th>se</th><th>t</th></tr><tr><td>4.86600876137157</td><td>(Intercept)</td><td>-0.00235923241872475</td><td>0.748406912221802</td><td>0.00694951786614808</td><td>-0.339481452406483</td></tr><tr><td>8.06560701318409</td><td>ecc</td><td>0.000125641909248491</td><td>0.0819526939552743</td><td>6.32546264443439e-05</td><td>1.98628806003684</td></tr></table>"
      ],
      "text/plain": [
       "DataMatrix[291, 0x7f1888f042b0]\n",
       "+---+------------------+-------------+----------------------+--------------------+----------------------+--------------------+\n",
       "| # |        df        |    effect   |         est          |         p          |          se          |         t          |\n",
       "+---+------------------+-------------+----------------------+--------------------+----------------------+--------------------+\n",
       "| 0 | 4.86600876137157 | (Intercept) | -0.00235923241872475 | 0.748406912221802  | 0.00694951786614808  | -0.339481452406483 |\n",
       "| 1 | 8.06560701318409 |     ecc     | 0.000125641909248491 | 0.0819526939552743 | 6.32546264443439e-05 |  1.98628806003684  |\n",
       "+---+------------------+-------------+----------------------+--------------------+----------------------+--------------------+"
      ]
     },
     "execution_count": 26,
     "metadata": {},
     "output_type": "execute_result"
    }
   ],
   "source": [
    "lme4.lmer(ldm, 'r_vc_lum ~ ecc + (1+ecc|sub)')"
   ]
  },
  {
   "cell_type": "code",
   "execution_count": 27,
   "metadata": {},
   "outputs": [
    {
     "data": {
      "text/html": [
       "<table><tr><th>df</th><th>effect</th><th>est</th><th>p</th><th>se</th><th>t</th></tr><tr><td>12.9554858616613</td><td>(Intercept)</td><td>-0.00941225218198835</td><td>0.131835327427693</td><td>0.00585196057159116</td><td>-1.60839295939226</td></tr><tr><td>12.9809580839273</td><td>prf_sd</td><td>0.000396942252943553</td><td>0.0480131833862555</td><td>0.0001818460418658</td><td>2.18284791283217</td></tr></table>"
      ],
      "text/plain": [
       "DataMatrix[306, 0x7f1888f04080]\n",
       "+---+------------------+-------------+----------------------+--------------------+---------------------+-------------------+\n",
       "| # |        df        |    effect   |         est          |         p          |          se         |         t         |\n",
       "+---+------------------+-------------+----------------------+--------------------+---------------------+-------------------+\n",
       "| 0 | 12.9554858616613 | (Intercept) | -0.00941225218198835 | 0.131835327427693  | 0.00585196057159116 | -1.60839295939226 |\n",
       "| 1 | 12.9809580839273 |    prf_sd   | 0.000396942252943553 | 0.0480131833862555 |  0.0001818460418658 |  2.18284791283217 |\n",
       "+---+------------------+-------------+----------------------+--------------------+---------------------+-------------------+"
      ]
     },
     "execution_count": 27,
     "metadata": {},
     "output_type": "execute_result"
    }
   ],
   "source": [
    "lme4.lmer(ldm, 'r_vc_lum ~ prf_sd + (1+prf_sd|sub)')"
   ]
  },
  {
   "cell_type": "markdown",
   "metadata": {},
   "source": [
    "## LGN properties"
   ]
  },
  {
   "cell_type": "code",
   "execution_count": 28,
   "metadata": {},
   "outputs": [
    {
     "data": {
      "text/html": [
       "<table><tr><th>df</th><th>effect</th><th>est</th><th>p</th><th>se</th><th>t</th></tr><tr><td>13.9999864553514</td><td>(Intercept)</td><td>-0.00230426825975755</td><td>0.604600246740953</td><td>0.00434990927432099</td><td>-0.529727889581616</td></tr></table>"
      ],
      "text/plain": [
       "DataMatrix[321, 0x7f1888e80a90]\n",
       "+---+------------------+-------------+----------------------+-------------------+---------------------+--------------------+\n",
       "| # |        df        |    effect   |         est          |         p         |          se         |         t          |\n",
       "+---+------------------+-------------+----------------------+-------------------+---------------------+--------------------+\n",
       "| 0 | 13.9999864553514 | (Intercept) | -0.00230426825975755 | 0.604600246740953 | 0.00434990927432099 | -0.529727889581616 |\n",
       "+---+------------------+-------------+----------------------+-------------------+---------------------+--------------------+"
      ]
     },
     "execution_count": 28,
     "metadata": {},
     "output_type": "execute_result"
    }
   ],
   "source": [
    "lme4.lmer(ldm_lgn, 'r_vc_lum ~ (1|sub)')"
   ]
  },
  {
   "cell_type": "code",
   "execution_count": 29,
   "metadata": {},
   "outputs": [
    {
     "data": {
      "text/html": [
       "<table><tr><th>df</th><th>effect</th><th>est</th><th>p</th><th>se</th><th>t</th></tr><tr><td>13.9999990171305</td><td>(Intercept)</td><td>0.00125929312288889</td><td>0.85039810883355</td><td>0.00655432648223897</td><td>0.192131583054543</td></tr></table>"
      ],
      "text/plain": [
       "DataMatrix[336, 0x7f1888ef3518]\n",
       "+---+------------------+-------------+---------------------+------------------+---------------------+-------------------+\n",
       "| # |        df        |    effect   |         est         |        p         |          se         |         t         |\n",
       "+---+------------------+-------------+---------------------+------------------+---------------------+-------------------+\n",
       "| 0 | 13.9999990171305 | (Intercept) | 0.00125929312288889 | 0.85039810883355 | 0.00655432648223897 | 0.192131583054543 |\n",
       "+---+------------------+-------------+---------------------+------------------+---------------------+-------------------+"
      ]
     },
     "execution_count": 29,
     "metadata": {},
     "output_type": "execute_result"
    }
   ],
   "source": [
    "lme4.lmer(ldm_lgn, 'r_vc_pupil ~ (1|sub)')"
   ]
  }
 ],
 "metadata": {
  "kernelspec": {
   "display_name": "Python 3",
   "language": "python",
   "name": "python3"
  },
  "language_info": {
   "codemirror_mode": {
    "name": "ipython",
    "version": 3
   },
   "file_extension": ".py",
   "mimetype": "text/x-python",
   "name": "python",
   "nbconvert_exporter": "python",
   "pygments_lexer": "ipython3",
   "version": "3.7.1"
  }
 },
 "nbformat": 4,
 "nbformat_minor": 2
}
