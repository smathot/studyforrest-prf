{
 "cells": [
  {
   "cell_type": "code",
   "execution_count": null,
   "metadata": {},
   "outputs": [],
   "source": [
    "from forrestprf import pupil, data\n",
    "import seaborn as sns\n",
    "import numpy as np\n",
    "import nibabel as nib\n",
    "from matplotlib import pyplot as plt\n",
    "from datamatrix import DataMatrix, io, functional as fnc, NiftiColumn, FloatColumn\n",
    "from scipy import stats\n",
    "import multiprocessing\n",
    "\n",
    "DT = 2\n",
    "RUNS = 1, 2, 3, 4, 5, 6, 7, 8"
   ]
  },
  {
   "cell_type": "code",
   "execution_count": null,
   "metadata": {},
   "outputs": [],
   "source": [
    "def trim(a, minval=-np.inf, maxval=np.inf):\n",
    "    \n",
    "    a[(a < minval) | (a > maxval)] = np.nan\n",
    "    \n",
    "    \n",
    "dm = io.readpickle('outputs/prf-dm.pkl')\n",
    "for row in dm:    \n",
    "    trim(row.prf_x.get_data(), minval=4, maxval=156)\n",
    "    trim(row.prf_y.get_data(), minval=4, maxval=124)\n",
    "    trim(row.prf_sd.get_data(), minval=1, maxval=60)"
   ]
  },
  {
   "cell_type": "code",
   "execution_count": null,
   "metadata": {},
   "outputs": [],
   "source": [
    "def do_subject(args):\n",
    "    \n",
    "    sub, roi, xyz = args\n",
    "    rdm = DataMatrix(length=len(RUNS))\n",
    "    rdm.r_vc_pupil = NiftiColumn\n",
    "    rdm.r_vc_lc = NiftiColumn\n",
    "    rdm.r_lc_pupil = FloatColumn\n",
    "    rdm.sub = sub\n",
    "    rdm.roi = roi\n",
    "    for row, run in zip(rdm, RUNS):\n",
    "        print(sub, roi, run)\n",
    "        sub_data = pupil.avmovie_data(sub, run)\n",
    "        pupil_data = pupil.pupil_data(sub, run)\n",
    "        lc_data = pupil.lc_data(sub, run)\n",
    "        row.r_vc_pupil = pupil.pupil_cor_img(\n",
    "            sub_data,\n",
    "            pupil_data,\n",
    "            xyz,\n",
    "            dt=DT\n",
    "        )\n",
    "        row.r_vc_lc = pupil.pupil_cor_img(\n",
    "            sub_data,\n",
    "            lc_data,\n",
    "            xyz,\n",
    "            dt=0\n",
    "        )\n",
    "        s, i, r, p, se = stats.linregress(lc_data[DT:], pupil_data[:-DT])\n",
    "        row.r_lc_pupil = r\n",
    "    return rdm\n",
    "\n",
    "\n",
    "args = [\n",
    "    (\n",
    "        row.sub,\n",
    "        row.roi,\n",
    "        np.where(~np.isnan(row.prf_x.get_data()))\n",
    "    ) for row in dm\n",
    "]\n",
    "with multiprocessing.Pool(2) as pool:\n",
    "    results = pool.map(do_subject, args)"
   ]
  },
  {
   "cell_type": "code",
   "execution_count": null,
   "metadata": {},
   "outputs": [],
   "source": [
    "dm.r_vc_pupil = NiftiColumn\n",
    "dm.r_vc_lc = NiftiColumn\n",
    "dm.r_lc_pupil = FloatColumn\n",
    "for rdm in results:\n",
    "    i = (dm.roi == rdm.roi[0]) & (dm.sub == rdm.sub[0])\n",
    "    dm.r_vc_pupil[i] = rdm.r_vc_pupil.mean\n",
    "    dm.r_vc_lc[i] = rdm.r_vc_lc.mean\n",
    "    dm.r_lc_pupil[i] = rdm.r_lc_pupil.mean\n",
    "csvdm = dm[:]\n",
    "del csvdm.prf_err\n",
    "del csvdm.prf_sd\n",
    "del csvdm.prf_x\n",
    "del csvdm.prf_y\n",
    "del csvdm.r_vc_pupil\n",
    "del csvdm.r_vc_lc\n",
    "io.writetxt(csvdm, 'outputs/r_pupil.csv')\n",
    "io.writepickle(dm, 'outputs/r_pupil.pkl')"
   ]
  },
  {
   "cell_type": "markdown",
   "metadata": {},
   "source": [
    "# Overall correlation per ROI"
   ]
  },
  {
   "cell_type": "code",
   "execution_count": null,
   "metadata": {},
   "outputs": [],
   "source": [
    "import seaborn as sns\n",
    "\n",
    "dm.r = [np.nanmean(row.r_pupil.get_data()) for row in dm]\n",
    "sns.violinplot(x='roi', y='r', data=dm)\n",
    "plt.axhline(0)"
   ]
  },
  {
   "cell_type": "code",
   "execution_count": null,
   "metadata": {},
   "outputs": [],
   "source": [
    "from scipy import stats\n",
    "from datamatrix import operations as ops\n",
    "for roi, rdm in ops.split(dm.roi):\n",
    "    t, p = stats.ttest_1samp(rdm.r, 0)\n",
    "    print('{}: t({}) = {:.2f}, p = {:4f}'.format(roi, len(rdm) - 1, t, p)) "
   ]
  },
  {
   "cell_type": "markdown",
   "metadata": {},
   "source": [
    "# Convert to longish format"
   ]
  },
  {
   "cell_type": "code",
   "execution_count": null,
   "metadata": {},
   "outputs": [],
   "source": [
    "def flatten(nft):\n",
    "    \n",
    "    a = nft.get_data().flatten()\n",
    "    return a[~np.isnan(a)]\n",
    "\n",
    "    \n",
    "ldm = DataMatrix()\n",
    "for row in dm:\n",
    "    x = flatten(row.prf_x)\n",
    "    y = flatten(row.prf_y)\n",
    "    sd = flatten(row.prf_sd)\n",
    "    err = flatten(row.prf_err)\n",
    "    r = flatten(row.r_pupil)\n",
    "    sdm = DataMatrix(len(x))\n",
    "    sdm.sub = row.sub\n",
    "    sdm.roi = row.roi\n",
    "    sdm.r_pupil = FloatColumn\n",
    "    sdm.prf_x = FloatColumn\n",
    "    sdm.prf_y = FloatColumn\n",
    "    sdm.prf_sd = FloatColumn\n",
    "    sdm.r_pupil = r\n",
    "    sdm.prf_x = x\n",
    "    sdm.prf_y = y\n",
    "    sdm.prf_sd = sd\n",
    "    ldm <<= sdm\n",
    "ldm.ecc = ((ldm.prf_x - 80) ** 2 + (ldm.prf_y - 64)) ** .5\n",
    "ldm"
   ]
  },
  {
   "cell_type": "markdown",
   "metadata": {},
   "source": [
    "# Correlations with RF properties"
   ]
  },
  {
   "cell_type": "code",
   "execution_count": null,
   "metadata": {},
   "outputs": [],
   "source": [
    "def bin_plot(dm, x, y, roi, bins=3):\n",
    "\n",
    "    lx = []\n",
    "    ly = []\n",
    "    lmin = []\n",
    "    lmax = []\n",
    "    for bdm in ops.bin_split(dm[x], bins=bins):\n",
    "        lx.append(bdm[x].mean)\n",
    "        ly.append(bdm[y].mean)\n",
    "        lmin.append(bdm[y].mean - bdm[y].std / len(bdm[y]) ** .5)\n",
    "        lmax.append(bdm[y].mean + bdm[y].std / len(bdm[y]) ** .5)\n",
    "    plt.fill_between(lx, lmin, lmax, alpha=.25)\n",
    "    plt.plot(lx, ly, 'o-', label=roi)\n",
    "    \n",
    "\n",
    "plt.figure(figsize=(10, 5))\n",
    "plt.subplot(1, 2, 1)\n",
    "for i, (roi, rdm) in enumerate(ops.split(ldm.roi)):\n",
    "    bin_plot(rdm, 'ecc', 'r_pupil', roi)\n",
    "bin_plot(ldm, 'ecc', 'r_pupil', 'overall')\n",
    "plt.xlabel('Eccentricity')\n",
    "plt.ylim(-.04, -.01)\n",
    "plt.legend()\n",
    "plt.subplot(1, 2, 2)\n",
    "for i, (roi, rdm) in enumerate(ops.split(ldm.roi)):\n",
    "    bin_plot(rdm, 'prf_sd', 'r_pupil', roi)\n",
    "bin_plot(ldm, 'prf_sd', 'r_pupil', 'overall')\n",
    "plt.xlabel('RF Size')\n",
    "plt.ylim(-.04, -.01)\n",
    "plt.legend()\n",
    "plt.show()"
   ]
  },
  {
   "cell_type": "code",
   "execution_count": null,
   "metadata": {},
   "outputs": [],
   "source": [
    "from datamatrix.rbridge import lme4\n",
    "\n",
    "lm = lme4.lmer(ldm, 'r_pupil ~ ecc * roi + (1 + ecc * roi|sub)')\n",
    "print(lm)\n",
    "lm = lme4.lmer(ldm, 'r_pupil ~ prf_sd * roi + (1 + prf_sd * roi|sub)')\n",
    "print(lm)"
   ]
  }
 ],
 "metadata": {
  "kernelspec": {
   "display_name": "Python 3",
   "language": "python",
   "name": "python3"
  },
  "language_info": {
   "codemirror_mode": {
    "name": "ipython",
    "version": 3
   },
   "file_extension": ".py",
   "mimetype": "text/x-python",
   "name": "python",
   "nbconvert_exporter": "python",
   "pygments_lexer": "ipython3",
   "version": "3.6.7"
  }
 },
 "nbformat": 4,
 "nbformat_minor": 2
}
