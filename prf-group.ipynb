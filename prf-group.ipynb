{
 "cells": [
  {
   "cell_type": "code",
   "execution_count": 1,
   "metadata": {},
   "outputs": [
    {
     "name": "stderr",
     "output_type": "stream",
     "text": [
      "/home/sebastiaan/anaconda3/lib/python3.7/importlib/_bootstrap.py:219: ImportWarning: can't resolve package from __spec__ or __package__, falling back on __name__ and __path__\n",
      "  return f(*args, **kwds)\n"
     ]
    }
   ],
   "source": [
    "from datamatrix import (\n",
    "    functional as fnc,\n",
    "    DataMatrix,\n",
    "    operations as ops,\n",
    "    io\n",
    ")\n",
    "from forrestprf import stimulus, data, fitting, plotting\n",
    "import multiprocessing\n",
    "import itertools\n",
    "import seaborn as sns\n",
    "from matplotlib import pyplot as plt\n",
    "import numpy as np\n",
    "import pickle"
   ]
  },
  {
   "cell_type": "code",
   "execution_count": 2,
   "metadata": {},
   "outputs": [],
   "source": [
    "SUBJECTS = 1, 2, 3, 4, 5, 6, 9, 10, 14, 15, 16 ,17, 18, 19, 20"
   ]
  },
  {
   "cell_type": "markdown",
   "metadata": {},
   "source": [
    "## Create PRF maps\n",
    "\n",
    "For every participant and ROI, create a PRF map, and save it as a pickled dict."
   ]
  },
  {
   "cell_type": "code",
   "execution_count": 6,
   "metadata": {},
   "outputs": [
    {
     "name": "stdout",
     "output_type": "stream",
     "text": [
      "PRF mapping (pass 1)\n",
      "PRF mapping (pass 1)\n",
      "PRF mapping (pass 1)\n",
      "PRF mapping (pass 1)\n",
      "PRF mapping (pass 2)\n",
      "PRF mapping (pass 2)\n",
      "PRF mapping (pass 2)\n",
      "PRF mapping (pass 2)\n"
     ]
    },
    {
     "name": "stderr",
     "output_type": "stream",
     "text": [
      "Process ForkPoolWorker-7:\n",
      "Process ForkPoolWorker-8:\n",
      "Process ForkPoolWorker-6:\n",
      "Process ForkPoolWorker-5:\n",
      "Traceback (most recent call last):\n",
      "Traceback (most recent call last):\n",
      "Traceback (most recent call last):\n",
      "  File \"/home/sebastiaan/anaconda3/lib/python3.7/multiprocessing/process.py\", line 297, in _bootstrap\n",
      "    self.run()\n",
      "Traceback (most recent call last):\n",
      "  File \"/home/sebastiaan/anaconda3/lib/python3.7/multiprocessing/process.py\", line 297, in _bootstrap\n",
      "    self.run()\n",
      "  File \"/home/sebastiaan/anaconda3/lib/python3.7/multiprocessing/process.py\", line 297, in _bootstrap\n",
      "    self.run()\n",
      "  File \"/home/sebastiaan/anaconda3/lib/python3.7/multiprocessing/process.py\", line 297, in _bootstrap\n",
      "    self.run()\n",
      "  File \"/home/sebastiaan/anaconda3/lib/python3.7/multiprocessing/process.py\", line 99, in run\n",
      "    self._target(*self._args, **self._kwargs)\n",
      "  File \"/home/sebastiaan/anaconda3/lib/python3.7/multiprocessing/pool.py\", line 121, in worker\n",
      "    result = (True, func(*args, **kwds))\n",
      "  File \"/home/sebastiaan/anaconda3/lib/python3.7/multiprocessing/process.py\", line 99, in run\n",
      "    self._target(*self._args, **self._kwargs)\n",
      "  File \"/home/sebastiaan/anaconda3/lib/python3.7/multiprocessing/process.py\", line 99, in run\n",
      "    self._target(*self._args, **self._kwargs)\n",
      "  File \"/home/sebastiaan/anaconda3/lib/python3.7/multiprocessing/pool.py\", line 121, in worker\n",
      "    result = (True, func(*args, **kwds))\n",
      "  File \"/home/sebastiaan/anaconda3/lib/python3.7/multiprocessing/pool.py\", line 44, in mapstar\n",
      "    return list(map(*args))\n",
      "  File \"/home/sebastiaan/anaconda3/lib/python3.7/multiprocessing/process.py\", line 99, in run\n",
      "    self._target(*self._args, **self._kwargs)\n",
      "  File \"/home/sebastiaan/anaconda3/lib/python3.7/multiprocessing/pool.py\", line 121, in worker\n",
      "    result = (True, func(*args, **kwds))\n",
      "  File \"<ipython-input-6-e7885ba98f4d>\", line 8, in prf_map\n",
      "    npass=3\n",
      "  File \"/home/sebastiaan/anaconda3/lib/python3.7/multiprocessing/pool.py\", line 121, in worker\n",
      "    result = (True, func(*args, **kwds))\n",
      "  File \"/home/sebastiaan/anaconda3/lib/python3.7/multiprocessing/pool.py\", line 44, in mapstar\n",
      "    return list(map(*args))\n",
      "  File \"<ipython-input-6-e7885ba98f4d>\", line 8, in prf_map\n",
      "    npass=3\n",
      "  File \"/home/sebastiaan/anaconda3/lib/python3.7/multiprocessing/pool.py\", line 44, in mapstar\n",
      "    return list(map(*args))\n",
      "  File \"<ipython-input-6-e7885ba98f4d>\", line 8, in prf_map\n",
      "    npass=3\n",
      "  File \"/home/sebastiaan/git/studyforrest-prf/forrestprf/fitting.py\", line 33, in prf_map\n",
      "    est=pass1\n",
      "  File \"/home/sebastiaan/anaconda3/lib/python3.7/multiprocessing/pool.py\", line 44, in mapstar\n",
      "    return list(map(*args))\n",
      "  File \"/home/sebastiaan/git/studyforrest-prf/forrestprf/fitting.py\", line 33, in prf_map\n",
      "    est=pass1\n",
      "  File \"/home/sebastiaan/git/studyforrest-prf/forrestprf/fitting.py\", line 33, in prf_map\n",
      "    est=pass1\n",
      "  File \"<ipython-input-6-e7885ba98f4d>\", line 8, in prf_map\n",
      "    npass=3\n",
      "  File \"/home/sebastiaan/git/studyforrest-prf/forrestprf/fitting.py\", line 33, in prf_map\n",
      "    est=pass1\n",
      "  File \"/home/sebastiaan/git/studyforrest-prf/forrestprf/fitting.py\", line 121, in _prf_map\n",
      "    params = _fit_prf(stim, bold, search_space)\n",
      "  File \"/home/sebastiaan/git/studyforrest-prf/forrestprf/fitting.py\", line 121, in _prf_map\n",
      "    params = _fit_prf(stim, bold, search_space)\n",
      "  File \"/home/sebastiaan/git/studyforrest-prf/forrestprf/fitting.py\", line 121, in _prf_map\n",
      "    params = _fit_prf(stim, bold, search_space)\n",
      "  File \"/home/sebastiaan/git/studyforrest-prf/forrestprf/fitting.py\", line 144, in _fit_prf\n",
      "    err = ((predictions.bold_prediction(x, y, sd, stim) - bold) ** 2).sum()\n",
      "  File \"/home/sebastiaan/git/studyforrest-prf/forrestprf/fitting.py\", line 144, in _fit_prf\n",
      "    err = ((predictions.bold_prediction(x, y, sd, stim) - bold) ** 2).sum()\n",
      "  File \"/home/sebastiaan/git/studyforrest-prf/forrestprf/predictions.py\", line 42, in bold_prediction\n",
      "    pred = (prf(x, y, sd, stim.shape) * stim).sum(axis=(1, 2))\n",
      "  File \"/home/sebastiaan/git/studyforrest-prf/forrestprf/predictions.py\", line 42, in bold_prediction\n",
      "    pred = (prf(x, y, sd, stim.shape) * stim).sum(axis=(1, 2))\n",
      "  File \"/home/sebastiaan/git/studyforrest-prf/forrestprf/predictions.py\", line 22, in prf\n",
      "    inp[:] = gauss\n",
      "  File \"/home/sebastiaan/git/studyforrest-prf/forrestprf/fitting.py\", line 121, in _prf_map\n",
      "    params = _fit_prf(stim, bold, search_space)\n",
      "  File \"/home/sebastiaan/git/studyforrest-prf/forrestprf/fitting.py\", line 144, in _fit_prf\n",
      "    err = ((predictions.bold_prediction(x, y, sd, stim) - bold) ** 2).sum()\n",
      "  File \"/home/sebastiaan/git/studyforrest-prf/forrestprf/predictions.py\", line 42, in bold_prediction\n",
      "    pred = (prf(x, y, sd, stim.shape) * stim).sum(axis=(1, 2))\n",
      "  File \"/home/sebastiaan/git/studyforrest-prf/forrestprf/predictions.py\", line 23, in prf\n",
      "    return inp / inp.max()\n",
      "KeyboardInterrupt\n",
      "  File \"/home/sebastiaan/git/studyforrest-prf/forrestprf/fitting.py\", line 144, in _fit_prf\n",
      "    err = ((predictions.bold_prediction(x, y, sd, stim) - bold) ** 2).sum()\n",
      "KeyboardInterrupt\n",
      "  File \"/home/sebastiaan/git/studyforrest-prf/forrestprf/predictions.py\", line 22, in prf\n",
      "    inp[:] = gauss\n",
      "  File \"/home/sebastiaan/git/studyforrest-prf/forrestprf/predictions.py\", line 42, in bold_prediction\n",
      "    pred = (prf(x, y, sd, stim.shape) * stim).sum(axis=(1, 2))\n",
      "KeyboardInterrupt\n",
      "  File \"/home/sebastiaan/git/studyforrest-prf/forrestprf/predictions.py\", line 23, in prf\n",
      "    return inp / inp.max()\n",
      "KeyboardInterrupt\n"
     ]
    },
    {
     "ename": "KeyboardInterrupt",
     "evalue": "",
     "output_type": "error",
     "traceback": [
      "\u001b[0;31m---------------------------------------------------------------------------\u001b[0m",
      "\u001b[0;31mKeyboardInterrupt\u001b[0m                         Traceback (most recent call last)",
      "\u001b[0;32m<ipython-input-6-e7885ba98f4d>\u001b[0m in \u001b[0;36m<module>\u001b[0;34m\u001b[0m\n\u001b[1;32m     15\u001b[0m \u001b[0;34m\u001b[0m\u001b[0m\n\u001b[1;32m     16\u001b[0m \u001b[0;32mwith\u001b[0m \u001b[0mmultiprocessing\u001b[0m\u001b[0;34m.\u001b[0m\u001b[0mPool\u001b[0m\u001b[0;34m(\u001b[0m\u001b[0;36m4\u001b[0m\u001b[0;34m)\u001b[0m \u001b[0;32mas\u001b[0m \u001b[0mpool\u001b[0m\u001b[0;34m:\u001b[0m\u001b[0;34m\u001b[0m\u001b[0;34m\u001b[0m\u001b[0m\n\u001b[0;32m---> 17\u001b[0;31m     \u001b[0mmaps\u001b[0m \u001b[0;34m=\u001b[0m \u001b[0mpool\u001b[0m\u001b[0;34m.\u001b[0m\u001b[0mmap\u001b[0m\u001b[0;34m(\u001b[0m\u001b[0mprf_map\u001b[0m\u001b[0;34m,\u001b[0m \u001b[0mitertools\u001b[0m\u001b[0;34m.\u001b[0m\u001b[0mproduct\u001b[0m\u001b[0;34m(\u001b[0m\u001b[0mSUBJECTS\u001b[0m\u001b[0;34m,\u001b[0m \u001b[0mdata\u001b[0m\u001b[0;34m.\u001b[0m\u001b[0mROI_JUELICH\u001b[0m\u001b[0;34m)\u001b[0m\u001b[0;34m)\u001b[0m\u001b[0;34m\u001b[0m\u001b[0;34m\u001b[0m\u001b[0m\n\u001b[0m",
      "\u001b[0;32m~/anaconda3/lib/python3.7/multiprocessing/pool.py\u001b[0m in \u001b[0;36mmap\u001b[0;34m(self, func, iterable, chunksize)\u001b[0m\n\u001b[1;32m    288\u001b[0m         \u001b[0;32min\u001b[0m \u001b[0ma\u001b[0m \u001b[0mlist\u001b[0m \u001b[0mthat\u001b[0m \u001b[0;32mis\u001b[0m \u001b[0mreturned\u001b[0m\u001b[0;34m.\u001b[0m\u001b[0;34m\u001b[0m\u001b[0;34m\u001b[0m\u001b[0m\n\u001b[1;32m    289\u001b[0m         '''\n\u001b[0;32m--> 290\u001b[0;31m         \u001b[0;32mreturn\u001b[0m \u001b[0mself\u001b[0m\u001b[0;34m.\u001b[0m\u001b[0m_map_async\u001b[0m\u001b[0;34m(\u001b[0m\u001b[0mfunc\u001b[0m\u001b[0;34m,\u001b[0m \u001b[0miterable\u001b[0m\u001b[0;34m,\u001b[0m \u001b[0mmapstar\u001b[0m\u001b[0;34m,\u001b[0m \u001b[0mchunksize\u001b[0m\u001b[0;34m)\u001b[0m\u001b[0;34m.\u001b[0m\u001b[0mget\u001b[0m\u001b[0;34m(\u001b[0m\u001b[0;34m)\u001b[0m\u001b[0;34m\u001b[0m\u001b[0;34m\u001b[0m\u001b[0m\n\u001b[0m\u001b[1;32m    291\u001b[0m \u001b[0;34m\u001b[0m\u001b[0m\n\u001b[1;32m    292\u001b[0m     \u001b[0;32mdef\u001b[0m \u001b[0mstarmap\u001b[0m\u001b[0;34m(\u001b[0m\u001b[0mself\u001b[0m\u001b[0;34m,\u001b[0m \u001b[0mfunc\u001b[0m\u001b[0;34m,\u001b[0m \u001b[0miterable\u001b[0m\u001b[0;34m,\u001b[0m \u001b[0mchunksize\u001b[0m\u001b[0;34m=\u001b[0m\u001b[0;32mNone\u001b[0m\u001b[0;34m)\u001b[0m\u001b[0;34m:\u001b[0m\u001b[0;34m\u001b[0m\u001b[0;34m\u001b[0m\u001b[0m\n",
      "\u001b[0;32m~/anaconda3/lib/python3.7/multiprocessing/pool.py\u001b[0m in \u001b[0;36mget\u001b[0;34m(self, timeout)\u001b[0m\n\u001b[1;32m    675\u001b[0m \u001b[0;34m\u001b[0m\u001b[0m\n\u001b[1;32m    676\u001b[0m     \u001b[0;32mdef\u001b[0m \u001b[0mget\u001b[0m\u001b[0;34m(\u001b[0m\u001b[0mself\u001b[0m\u001b[0;34m,\u001b[0m \u001b[0mtimeout\u001b[0m\u001b[0;34m=\u001b[0m\u001b[0;32mNone\u001b[0m\u001b[0;34m)\u001b[0m\u001b[0;34m:\u001b[0m\u001b[0;34m\u001b[0m\u001b[0;34m\u001b[0m\u001b[0m\n\u001b[0;32m--> 677\u001b[0;31m         \u001b[0mself\u001b[0m\u001b[0;34m.\u001b[0m\u001b[0mwait\u001b[0m\u001b[0;34m(\u001b[0m\u001b[0mtimeout\u001b[0m\u001b[0;34m)\u001b[0m\u001b[0;34m\u001b[0m\u001b[0;34m\u001b[0m\u001b[0m\n\u001b[0m\u001b[1;32m    678\u001b[0m         \u001b[0;32mif\u001b[0m \u001b[0;32mnot\u001b[0m \u001b[0mself\u001b[0m\u001b[0;34m.\u001b[0m\u001b[0mready\u001b[0m\u001b[0;34m(\u001b[0m\u001b[0;34m)\u001b[0m\u001b[0;34m:\u001b[0m\u001b[0;34m\u001b[0m\u001b[0;34m\u001b[0m\u001b[0m\n\u001b[1;32m    679\u001b[0m             \u001b[0;32mraise\u001b[0m \u001b[0mTimeoutError\u001b[0m\u001b[0;34m\u001b[0m\u001b[0;34m\u001b[0m\u001b[0m\n",
      "\u001b[0;32m~/anaconda3/lib/python3.7/multiprocessing/pool.py\u001b[0m in \u001b[0;36mwait\u001b[0;34m(self, timeout)\u001b[0m\n\u001b[1;32m    672\u001b[0m \u001b[0;34m\u001b[0m\u001b[0m\n\u001b[1;32m    673\u001b[0m     \u001b[0;32mdef\u001b[0m \u001b[0mwait\u001b[0m\u001b[0;34m(\u001b[0m\u001b[0mself\u001b[0m\u001b[0;34m,\u001b[0m \u001b[0mtimeout\u001b[0m\u001b[0;34m=\u001b[0m\u001b[0;32mNone\u001b[0m\u001b[0;34m)\u001b[0m\u001b[0;34m:\u001b[0m\u001b[0;34m\u001b[0m\u001b[0;34m\u001b[0m\u001b[0m\n\u001b[0;32m--> 674\u001b[0;31m         \u001b[0mself\u001b[0m\u001b[0;34m.\u001b[0m\u001b[0m_event\u001b[0m\u001b[0;34m.\u001b[0m\u001b[0mwait\u001b[0m\u001b[0;34m(\u001b[0m\u001b[0mtimeout\u001b[0m\u001b[0;34m)\u001b[0m\u001b[0;34m\u001b[0m\u001b[0;34m\u001b[0m\u001b[0m\n\u001b[0m\u001b[1;32m    675\u001b[0m \u001b[0;34m\u001b[0m\u001b[0m\n\u001b[1;32m    676\u001b[0m     \u001b[0;32mdef\u001b[0m \u001b[0mget\u001b[0m\u001b[0;34m(\u001b[0m\u001b[0mself\u001b[0m\u001b[0;34m,\u001b[0m \u001b[0mtimeout\u001b[0m\u001b[0;34m=\u001b[0m\u001b[0;32mNone\u001b[0m\u001b[0;34m)\u001b[0m\u001b[0;34m:\u001b[0m\u001b[0;34m\u001b[0m\u001b[0;34m\u001b[0m\u001b[0m\n",
      "\u001b[0;32m~/anaconda3/lib/python3.7/threading.py\u001b[0m in \u001b[0;36mwait\u001b[0;34m(self, timeout)\u001b[0m\n\u001b[1;32m    550\u001b[0m             \u001b[0msignaled\u001b[0m \u001b[0;34m=\u001b[0m \u001b[0mself\u001b[0m\u001b[0;34m.\u001b[0m\u001b[0m_flag\u001b[0m\u001b[0;34m\u001b[0m\u001b[0;34m\u001b[0m\u001b[0m\n\u001b[1;32m    551\u001b[0m             \u001b[0;32mif\u001b[0m \u001b[0;32mnot\u001b[0m \u001b[0msignaled\u001b[0m\u001b[0;34m:\u001b[0m\u001b[0;34m\u001b[0m\u001b[0;34m\u001b[0m\u001b[0m\n\u001b[0;32m--> 552\u001b[0;31m                 \u001b[0msignaled\u001b[0m \u001b[0;34m=\u001b[0m \u001b[0mself\u001b[0m\u001b[0;34m.\u001b[0m\u001b[0m_cond\u001b[0m\u001b[0;34m.\u001b[0m\u001b[0mwait\u001b[0m\u001b[0;34m(\u001b[0m\u001b[0mtimeout\u001b[0m\u001b[0;34m)\u001b[0m\u001b[0;34m\u001b[0m\u001b[0;34m\u001b[0m\u001b[0m\n\u001b[0m\u001b[1;32m    553\u001b[0m             \u001b[0;32mreturn\u001b[0m \u001b[0msignaled\u001b[0m\u001b[0;34m\u001b[0m\u001b[0;34m\u001b[0m\u001b[0m\n\u001b[1;32m    554\u001b[0m \u001b[0;34m\u001b[0m\u001b[0m\n",
      "\u001b[0;32m~/anaconda3/lib/python3.7/threading.py\u001b[0m in \u001b[0;36mwait\u001b[0;34m(self, timeout)\u001b[0m\n\u001b[1;32m    294\u001b[0m         \u001b[0;32mtry\u001b[0m\u001b[0;34m:\u001b[0m    \u001b[0;31m# restore state no matter what (e.g., KeyboardInterrupt)\u001b[0m\u001b[0;34m\u001b[0m\u001b[0;34m\u001b[0m\u001b[0m\n\u001b[1;32m    295\u001b[0m             \u001b[0;32mif\u001b[0m \u001b[0mtimeout\u001b[0m \u001b[0;32mis\u001b[0m \u001b[0;32mNone\u001b[0m\u001b[0;34m:\u001b[0m\u001b[0;34m\u001b[0m\u001b[0;34m\u001b[0m\u001b[0m\n\u001b[0;32m--> 296\u001b[0;31m                 \u001b[0mwaiter\u001b[0m\u001b[0;34m.\u001b[0m\u001b[0macquire\u001b[0m\u001b[0;34m(\u001b[0m\u001b[0;34m)\u001b[0m\u001b[0;34m\u001b[0m\u001b[0;34m\u001b[0m\u001b[0m\n\u001b[0m\u001b[1;32m    297\u001b[0m                 \u001b[0mgotit\u001b[0m \u001b[0;34m=\u001b[0m \u001b[0;32mTrue\u001b[0m\u001b[0;34m\u001b[0m\u001b[0;34m\u001b[0m\u001b[0m\n\u001b[1;32m    298\u001b[0m             \u001b[0;32melse\u001b[0m\u001b[0;34m:\u001b[0m\u001b[0;34m\u001b[0m\u001b[0;34m\u001b[0m\u001b[0m\n",
      "\u001b[0;31mKeyboardInterrupt\u001b[0m: "
     ]
    }
   ],
   "source": [
    "def prf_map(sub_roi):\n",
    "\n",
    "    sub, roi = sub_roi\n",
    "    prf_map = fitting.prf_map(\n",
    "        stimulus.retinotopic_mapping_stim(4),\n",
    "        data.subject_data(sub),\n",
    "        data.juelich_mask(data.ROI_JUELICH[roi]),\n",
    "        npass=3\n",
    "    )\n",
    "    prf_map.sub = sub\n",
    "    prf_map.roi = roi\n",
    "    print(prf_map)\n",
    "    return prf_map\n",
    "\n",
    "\n",
    "with multiprocessing.Pool(4) as pool:\n",
    "    maps = pool.map(prf_map, itertools.product(SUBJECTS, data.ROI_JUELICH))"
   ]
  },
  {
   "cell_type": "code",
   "execution_count": null,
   "metadata": {},
   "outputs": [],
   "source": [
    "def flatten(n, minval=-np.inf, maxval=np.inf):\n",
    "    \n",
    "    a = n.get_data().flatten()\n",
    "    return a[~np.isnan(a) & (a >= minval) & (a <= maxval)]\n",
    "\n",
    "\n",
    "dm = DataMatrix()\n",
    "for sdm in maps:\n",
    "    dm <<= sdm\n",
    "dm.rf_size = dm.prf_sd @ (\n",
    "    lambda img: np.nanmean(\n",
    "        flatten(img, minval=1, maxval=60)\n",
    "    )\n",
    ")\n",
    "io.writepickle(dm, 'outputs/prf-dm.pkl')"
   ]
  },
  {
   "cell_type": "markdown",
   "metadata": {},
   "source": [
    "# Plot RFs"
   ]
  },
  {
   "cell_type": "code",
   "execution_count": null,
   "metadata": {},
   "outputs": [],
   "source": [
    "for roi, rdm in ops.split((dm.sub == 1).roi):\n",
    "    fig = plt.figure()\n",
    "    ax = fig.add_subplot(111, aspect='equal')\n",
    "    for row in rdm:\n",
    "        for x, y, sd in zip(\n",
    "            data(row.prf_x, minval=4, maxval=156),\n",
    "            data(row.prf_y, minval=4, maxval=124),\n",
    "            data(row.prf_sd, minval=1, maxval=60),\n",
    "        ):\n",
    "            ax.add_artist(\n",
    "                plt.Circle(\n",
    "                    xy=(x, y),\n",
    "                    radius=sd/2,\n",
    "                    alpha=.05,\n",
    "                    fill=False\n",
    "                )\n",
    "            )\n",
    "    plt.title(roi)\n",
    "    plt.xlim(0, 160)\n",
    "    plt.ylim(0, 128)\n",
    "    plt.show()"
   ]
  },
  {
   "cell_type": "markdown",
   "metadata": {},
   "source": [
    "# RF sizes per ROI"
   ]
  },
  {
   "cell_type": "code",
   "execution_count": null,
   "metadata": {},
   "outputs": [],
   "source": [
    "ax = sns.violinplot(x='roi', y='rf_size', data=dm)\n",
    "ax.axhline(0, color='black')\n",
    "plt.ylim(0, 60)\n",
    "plt.ylabel('RF size')\n",
    "plt.xlabel('ROI')"
   ]
  },
  {
   "cell_type": "markdown",
   "metadata": {},
   "source": [
    "## Correlations between RF eccentricity, roi, and size"
   ]
  },
  {
   "cell_type": "code",
   "execution_count": null,
   "metadata": {},
   "outputs": [],
   "source": [
    "from datamatrix import operations as ops\n",
    "\n",
    "dm = DataMatrix()\n",
    "for sub, sub_maps in maps.items():\n",
    "    for roi, prf_map in sub_maps.items():\n",
    "        x, y, sd, err = prf_map.params\n",
    "        err = err[~np.isinf(err)]\n",
    "        sdm = DataMatrix(length=len(x))\n",
    "        sdm.roi = roi\n",
    "        sdm.sub = sub\n",
    "        sdm.x = x\n",
    "        sdm.y = y\n",
    "        sdm.sd = sd\n",
    "        sdm.err = err\n",
    "        dm <<= sdm\n",
    "dm.ecc = ((dm.x - 80) ** 2 + (dm.y - 64) **2) ** .5\n",
    "dm = ops.auto_type(dm)"
   ]
  },
  {
   "cell_type": "code",
   "execution_count": null,
   "metadata": {},
   "outputs": [],
   "source": [
    "from datamatrix.rbridge import lme4\n",
    "lme4.lmer(dm, 'sd ~ ecc + roi + (1+ecc+roi|sub)')"
   ]
  },
  {
   "cell_type": "code",
   "execution_count": null,
   "metadata": {},
   "outputs": [],
   "source": [
    "for roi in data.ROI_JUELICH:\n",
    "    sns.scatterplot(x='ecc', y='sd', data=(dm.roi == roi), marker='.')\n",
    "    plt.title(roi)\n",
    "    plt.xlabel('Eccentricity')\n",
    "    plt.ylabel('RF size')\n",
    "    plt.show()"
   ]
  }
 ],
 "metadata": {
  "kernelspec": {
   "display_name": "Python 3",
   "language": "python",
   "name": "python3"
  },
  "language_info": {
   "codemirror_mode": {
    "name": "ipython",
    "version": 3
   },
   "file_extension": ".py",
   "mimetype": "text/x-python",
   "name": "python",
   "nbconvert_exporter": "python",
   "pygments_lexer": "ipython3",
   "version": "3.7.1"
  }
 },
 "nbformat": 4,
 "nbformat_minor": 2
}
